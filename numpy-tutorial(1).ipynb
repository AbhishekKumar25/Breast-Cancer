{
 "cells": [
  {
   "cell_type": "code",
   "execution_count": 1,
   "metadata": {},
   "outputs": [],
   "source": [
    "import numpy as np"
   ]
  },
  {
   "cell_type": "code",
   "execution_count": 2,
   "metadata": {},
   "outputs": [
    {
     "data": {
      "text/plain": [
       "array([ 0.,  0.,  0.,  0.,  0.,  0.,  0.,  0.,  0.,  0.,  0.,  0.,  0.,\n",
       "        0.,  0.,  0.,  0.,  0.,  0.,  0.,  0.,  0.,  0.,  0.,  0.,  0.,\n",
       "        0.,  0.,  0.,  0.,  0.,  0.,  0.,  0.,  0.,  0.,  0.,  0.,  0.,\n",
       "        0.,  0.,  0.,  0.,  0.,  0.,  0.,  0.,  0.,  0.,  0.])"
      ]
     },
     "execution_count": 2,
     "metadata": {},
     "output_type": "execute_result"
    }
   ],
   "source": [
    "zeros_vector=np.zeros(50)\n",
    "zeros_vector"
   ]
  },
  {
   "cell_type": "code",
   "execution_count": 3,
   "metadata": {},
   "outputs": [
    {
     "data": {
      "text/plain": [
       "numpy.ndarray"
      ]
     },
     "execution_count": 3,
     "metadata": {},
     "output_type": "execute_result"
    }
   ],
   "source": [
    "type(zeros_vector)"
   ]
  },
  {
   "cell_type": "code",
   "execution_count": 4,
   "metadata": {},
   "outputs": [
    {
     "data": {
      "text/plain": [
       "array([[ 0.,  0.,  0.,  0.,  0.,  0.,  0.,  0.,  0.,  0.,  0.,  0.,  0.],\n",
       "       [ 0.,  0.,  0.,  0.,  0.,  0.,  0.,  0.,  0.,  0.,  0.,  0.,  0.],\n",
       "       [ 0.,  0.,  0.,  0.,  0.,  0.,  0.,  0.,  0.,  0.,  0.,  0.,  0.]])"
      ]
     },
     "execution_count": 4,
     "metadata": {},
     "output_type": "execute_result"
    }
   ],
   "source": [
    "zero_matrix=np.zeros((3,13))\n",
    "zero_matrix"
   ]
  },
  {
   "cell_type": "code",
   "execution_count": 5,
   "metadata": {},
   "outputs": [
    {
     "data": {
      "text/plain": [
       "array([[ 1.,  1.],\n",
       "       [ 1.,  1.]])"
      ]
     },
     "execution_count": 5,
     "metadata": {},
     "output_type": "execute_result"
    }
   ],
   "source": [
    "non_zeros=np.ones((2,2))\n",
    "non_zeros"
   ]
  },
  {
   "cell_type": "code",
   "execution_count": 6,
   "metadata": {},
   "outputs": [
    {
     "data": {
      "text/plain": [
       "array([[1, 6],\n",
       "       [3, 4]])"
      ]
     },
     "execution_count": 6,
     "metadata": {},
     "output_type": "execute_result"
    }
   ],
   "source": [
    "array1=np.array([[1,6],[3,4]])\n",
    "array1"
   ]
  },
  {
   "cell_type": "code",
   "execution_count": 7,
   "metadata": {},
   "outputs": [
    {
     "data": {
      "text/plain": [
       "array([[1, 3],\n",
       "       [6, 4]])"
      ]
     },
     "execution_count": 7,
     "metadata": {},
     "output_type": "execute_result"
    }
   ],
   "source": [
    "type(array1)\n",
    "array1.transpose()"
   ]
  },
  {
   "cell_type": "code",
   "execution_count": 8,
   "metadata": {},
   "outputs": [
    {
     "data": {
      "text/plain": [
       "array([[1, 6]])"
      ]
     },
     "execution_count": 8,
     "metadata": {},
     "output_type": "execute_result"
    }
   ],
   "source": [
    "array1[0:1]"
   ]
  },
  {
   "cell_type": "code",
   "execution_count": 9,
   "metadata": {},
   "outputs": [
    {
     "data": {
      "text/plain": [
       "array([[ 4,  6],\n",
       "       [55,  4]])"
      ]
     },
     "execution_count": 9,
     "metadata": {},
     "output_type": "execute_result"
    }
   ],
   "source": [
    "array2=np.array([[4,6],[55,4]])\n",
    "array2"
   ]
  },
  {
   "cell_type": "code",
   "execution_count": 10,
   "metadata": {},
   "outputs": [
    {
     "data": {
      "text/plain": [
       "array([[                   1,                46656],\n",
       "       [-5935728490411247669,                  256]])"
      ]
     },
     "execution_count": 10,
     "metadata": {},
     "output_type": "execute_result"
    }
   ],
   "source": [
    "sum=array1**array2\n",
    "sum"
   ]
  },
  {
   "cell_type": "code",
   "execution_count": 11,
   "metadata": {},
   "outputs": [
    {
     "data": {
      "text/plain": [
       "array([1, 2, 4, 5, 7])"
      ]
     },
     "execution_count": 11,
     "metadata": {},
     "output_type": "execute_result"
    }
   ],
   "source": [
    "z1=np.array([1,2,4,5,7])\n",
    "z1"
   ]
  },
  {
   "cell_type": "code",
   "execution_count": 12,
   "metadata": {},
   "outputs": [
    {
     "data": {
      "text/plain": [
       "array([12, 13, 15, 16, 18])"
      ]
     },
     "execution_count": 12,
     "metadata": {},
     "output_type": "execute_result"
    }
   ],
   "source": [
    "z2=z1+11\n",
    "z2"
   ]
  },
  {
   "cell_type": "code",
   "execution_count": 13,
   "metadata": {},
   "outputs": [],
   "source": [
    "import numpy as np\n",
    "i_n=np.array([12,32])"
   ]
  },
  {
   "cell_type": "code",
   "execution_count": 14,
   "metadata": {},
   "outputs": [
    {
     "data": {
      "text/plain": [
       "array([12, 32])"
      ]
     },
     "execution_count": 14,
     "metadata": {},
     "output_type": "execute_result"
    }
   ],
   "source": [
    "aa=i_n\n",
    "aa"
   ]
  },
  {
   "cell_type": "code",
   "execution_count": 15,
   "metadata": {},
   "outputs": [
    {
     "data": {
      "text/plain": [
       "[array([12, 32])]"
      ]
     },
     "execution_count": 15,
     "metadata": {},
     "output_type": "execute_result"
    }
   ],
   "source": [
    "z1=[i_n]\n",
    "z1\n"
   ]
  },
  {
   "cell_type": "code",
   "execution_count": 16,
   "metadata": {},
   "outputs": [
    {
     "data": {
      "text/plain": [
       "array([[False,  True],\n",
       "       [False,  True]], dtype=bool)"
      ]
     },
     "execution_count": 16,
     "metadata": {},
     "output_type": "execute_result"
    }
   ],
   "source": [
    "array1==array2 #done till here on 18june dsp "
   ]
  },
  {
   "cell_type": "code",
   "execution_count": 17,
   "metadata": {},
   "outputs": [
    {
     "data": {
      "text/plain": [
       "array([[False, False],\n",
       "       [False, False]], dtype=bool)"
      ]
     },
     "execution_count": 17,
     "metadata": {},
     "output_type": "execute_result"
    }
   ],
   "source": [
    "array1>array2"
   ]
  },
  {
   "cell_type": "code",
   "execution_count": 18,
   "metadata": {},
   "outputs": [
    {
     "data": {
      "text/plain": [
       "array([   0.        ,    8.33333333,   16.66666667,   25.        ,\n",
       "         33.33333333,   41.66666667,   50.        ,   58.33333333,\n",
       "         66.66666667,   75.        ,   83.33333333,   91.66666667,  100.        ])"
      ]
     },
     "execution_count": 18,
     "metadata": {},
     "output_type": "execute_result"
    }
   ],
   "source": [
    "las=np.linspace(0,100,13)\n",
    "las"
   ]
  },
  {
   "cell_type": "code",
   "execution_count": 19,
   "metadata": {},
   "outputs": [
    {
     "data": {
      "text/plain": [
       "(13,)"
      ]
     },
     "execution_count": 19,
     "metadata": {},
     "output_type": "execute_result"
    }
   ],
   "source": [
    "las.shape\n"
   ]
  },
  {
   "cell_type": "code",
   "execution_count": 20,
   "metadata": {},
   "outputs": [
    {
     "data": {
      "text/plain": [
       "(2, 2)"
      ]
     },
     "execution_count": 20,
     "metadata": {},
     "output_type": "execute_result"
    }
   ],
   "source": [
    "array1.shape"
   ]
  },
  {
   "cell_type": "code",
   "execution_count": 21,
   "metadata": {},
   "outputs": [
    {
     "data": {
      "text/plain": [
       "_Feature((2, 6, 0, 'alpha', 2), (3, 0, 0, 'alpha', 0), 65536)"
      ]
     },
     "execution_count": 21,
     "metadata": {},
     "output_type": "execute_result"
    }
   ],
   "source": [
    "ran=np.random.print_function\n",
    "ran"
   ]
  },
  {
   "cell_type": "code",
   "execution_count": 61,
   "metadata": {},
   "outputs": [
    {
     "data": {
      "text/plain": [
       "12"
      ]
     },
     "execution_count": 61,
     "metadata": {},
     "output_type": "execute_result"
    }
   ],
   "source": [
    "\n",
    "ran.size"
   ]
  },
  {
   "cell_type": "code",
   "execution_count": 24,
   "metadata": {},
   "outputs": [
    {
     "data": {
      "text/plain": [
       "array([[ 1.+0.j,  2.+0.j],\n",
       "       [ 3.+0.j,  4.+0.j]])"
      ]
     },
     "execution_count": 24,
     "metadata": {},
     "output_type": "execute_result"
    }
   ],
   "source": [
    "M=np.array([[1,2],[3,4]],dtype=complex)\n",
    "M"
   ]
  },
  {
   "cell_type": "code",
   "execution_count": 25,
   "metadata": {},
   "outputs": [
    {
     "data": {
      "text/plain": [
       "array([0, 1, 2, 3, 4, 5, 6, 7, 8, 9])"
      ]
     },
     "execution_count": 25,
     "metadata": {},
     "output_type": "execute_result"
    }
   ],
   "source": [
    "z=np.arange(0, 10, 1)\n",
    "z"
   ]
  },
  {
   "cell_type": "code",
   "execution_count": 35,
   "metadata": {},
   "outputs": [
    {
     "data": {
      "text/plain": [
       "array([ 0,  5, 10, 15, 20, 25, 30, 35, 40, 45, 50, 55, 60, 65, 70, 75, 80,\n",
       "       85, 90, 95])"
      ]
     },
     "execution_count": 35,
     "metadata": {},
     "output_type": "execute_result"
    }
   ],
   "source": [
    "z=np.arange(0, 100, 5)\n",
    "z"
   ]
  },
  {
   "cell_type": "code",
   "execution_count": 26,
   "metadata": {},
   "outputs": [
    {
     "data": {
      "text/plain": [
       "array([ 0, 44, 88])"
      ]
     },
     "execution_count": 26,
     "metadata": {},
     "output_type": "execute_result"
    }
   ],
   "source": [
    "z=np.arange(0, 100, 44)\n",
    "z\n"
   ]
  },
  {
   "cell_type": "code",
   "execution_count": 27,
   "metadata": {},
   "outputs": [
    {
     "data": {
      "text/plain": [
       "array([ -1.00000000e+00,  -9.00000000e-01,  -8.00000000e-01,\n",
       "        -7.00000000e-01,  -6.00000000e-01,  -5.00000000e-01,\n",
       "        -4.00000000e-01,  -3.00000000e-01,  -2.00000000e-01,\n",
       "        -1.00000000e-01,  -2.22044605e-16,   1.00000000e-01,\n",
       "         2.00000000e-01,   3.00000000e-01,   4.00000000e-01,\n",
       "         5.00000000e-01,   6.00000000e-01,   7.00000000e-01,\n",
       "         8.00000000e-01,   9.00000000e-01])"
      ]
     },
     "execution_count": 27,
     "metadata": {},
     "output_type": "execute_result"
    }
   ],
   "source": [
    "z=np.arange(-1,1,0.1)\n",
    "z"
   ]
  },
  {
   "cell_type": "code",
   "execution_count": 28,
   "metadata": {
    "scrolled": true
   },
   "outputs": [
    {
     "data": {
      "text/plain": [
       "array([[[0, 0, 0, 0, 0],\n",
       "        [1, 1, 1, 1, 1],\n",
       "        [2, 2, 2, 2, 2],\n",
       "        [3, 3, 3, 3, 3],\n",
       "        [4, 4, 4, 4, 4]],\n",
       "\n",
       "       [[0, 1, 2, 3, 4],\n",
       "        [0, 1, 2, 3, 4],\n",
       "        [0, 1, 2, 3, 4],\n",
       "        [0, 1, 2, 3, 4],\n",
       "        [0, 1, 2, 3, 4]]])"
      ]
     },
     "execution_count": 28,
     "metadata": {},
     "output_type": "execute_result"
    }
   ],
   "source": [
    "corrdinate_mesh=np.mgrid[0:5,0:5]\n",
    "corrdinate_mesh"
   ]
  },
  {
   "cell_type": "code",
   "execution_count": 37,
   "metadata": {},
   "outputs": [
    {
     "data": {
      "text/plain": [
       "array([[ 0.58641919,  0.12758334,  0.30747154],\n",
       "       [ 0.82781686,  0.65030372,  0.73708004],\n",
       "       [ 0.3112234 ,  0.15517287,  0.54268879]])"
      ]
     },
     "execution_count": 37,
     "metadata": {},
     "output_type": "execute_result"
    }
   ],
   "source": [
    "aa=np.random.rand(3,3)\n",
    "aa"
   ]
  },
  {
   "cell_type": "code",
   "execution_count": 29,
   "metadata": {},
   "outputs": [
    {
     "data": {
      "text/plain": [
       "array([[ 0.73680007,  0.4027315 ,  0.53255993,  0.83535379,  0.39429983],\n",
       "       [ 0.66725312,  0.92506911,  0.2428422 ,  0.5406626 ,  0.27854308],\n",
       "       [ 0.09547272,  0.25830796,  0.62837717,  0.86113483,  0.84255331],\n",
       "       [ 0.39304656,  0.78505936,  0.13828286,  0.22481456,  0.24665517],\n",
       "       [ 0.96141947,  0.1557701 ,  0.71491232,  0.12382933,  0.1090531 ]])"
      ]
     },
     "execution_count": 29,
     "metadata": {},
     "output_type": "execute_result"
    }
   ],
   "source": [
    "aa=np.random.rand(5,5)\n",
    "aa\n"
   ]
  },
  {
   "cell_type": "code",
   "execution_count": 40,
   "metadata": {},
   "outputs": [
    {
     "data": {
      "text/plain": [
       "array([[1, 0, 0, 0, 0, 0],\n",
       "       [0, 2, 0, 0, 0, 0],\n",
       "       [0, 0, 3, 0, 0, 0],\n",
       "       [0, 0, 0, 4, 0, 0],\n",
       "       [0, 0, 0, 0, 7, 0],\n",
       "       [0, 0, 0, 0, 0, 9]])"
      ]
     },
     "execution_count": 40,
     "metadata": {},
     "output_type": "execute_result"
    }
   ],
   "source": [
    "diamat=np.diag([1,2,3,4,7,9])\n",
    "diamat"
   ]
  },
  {
   "cell_type": "code",
   "execution_count": 31,
   "metadata": {},
   "outputs": [
    {
     "data": {
      "text/plain": [
       "array([[0, 1, 0, 0],\n",
       "       [0, 0, 2, 0],\n",
       "       [0, 0, 0, 3],\n",
       "       [0, 0, 0, 0]])"
      ]
     },
     "execution_count": 31,
     "metadata": {},
     "output_type": "execute_result"
    }
   ],
   "source": [
    "diamat2=np.diag([1,2,3], k=1)\n",
    "diamat2"
   ]
  },
  {
   "cell_type": "code",
   "execution_count": 32,
   "metadata": {},
   "outputs": [
    {
     "ename": "ValueError",
     "evalue": "Some errors were detected !\n    Line #2 (got 3 columns instead of 11)\n    Line #5 (got 10 columns instead of 11)\n    Line #8 (got 16 columns instead of 11)\n    Line #9 (got 1 columns instead of 11)\n    Line #10 (got 2 columns instead of 11)\n    Line #12 (got 9 columns instead of 11)\n    Line #13 (got 4 columns instead of 11)\n    Line #16 (got 4 columns instead of 11)\n    Line #18 (got 7 columns instead of 11)\n    Line #19 (got 7 columns instead of 11)\n    Line #21 (got 15 columns instead of 11)\n    Line #22 (got 7 columns instead of 11)\n    Line #24 (got 7 columns instead of 11)\n    Line #25 (got 4 columns instead of 11)\n    Line #27 (got 7 columns instead of 11)\n    Line #28 (got 3 columns instead of 11)\n    Line #30 (got 14 columns instead of 11)\n    Line #31 (got 7 columns instead of 11)\n    Line #33 (got 9 columns instead of 11)\n    Line #34 (got 3 columns instead of 11)\n    Line #36 (got 8 columns instead of 11)\n    Line #37 (got 3 columns instead of 11)\n    Line #39 (got 9 columns instead of 11)\n    Line #40 (got 7 columns instead of 11)\n    Line #42 (got 6 columns instead of 11)\n    Line #43 (got 9 columns instead of 11)\n    Line #45 (got 8 columns instead of 11)\n    Line #46 (got 7 columns instead of 11)\n    Line #48 (got 10 columns instead of 11)\n    Line #49 (got 10 columns instead of 11)\n    Line #51 (got 13 columns instead of 11)\n    Line #52 (got 6 columns instead of 11)\n    Line #54 (got 8 columns instead of 11)\n    Line #55 (got 7 columns instead of 11)\n    Line #57 (got 12 columns instead of 11)\n    Line #58 (got 7 columns instead of 11)\n    Line #60 (got 8 columns instead of 11)\n    Line #61 (got 6 columns instead of 11)\n    Line #63 (got 9 columns instead of 11)\n    Line #64 (got 2 columns instead of 11)\n    Line #66 (got 12 columns instead of 11)\n    Line #67 (got 5 columns instead of 11)\n    Line #69 (got 10 columns instead of 11)\n    Line #70 (got 5 columns instead of 11)\n    Line #72 (got 8 columns instead of 11)\n    Line #73 (got 14 columns instead of 11)\n    Line #75 (got 6 columns instead of 11)\n    Line #76 (got 10 columns instead of 11)\n    Line #78 (got 10 columns instead of 11)\n    Line #79 (got 4 columns instead of 11)\n    Line #82 (got 8 columns instead of 11)\n    Line #84 (got 8 columns instead of 11)\n    Line #85 (got 6 columns instead of 11)\n    Line #87 (got 9 columns instead of 11)\n    Line #88 (got 6 columns instead of 11)\n    Line #90 (got 14 columns instead of 11)\n    Line #91 (got 1 columns instead of 11)\n    Line #92 (got 8 columns instead of 11)\n    Line #94 (got 12 columns instead of 11)\n    Line #95 (got 7 columns instead of 11)\n    Line #97 (got 12 columns instead of 11)\n    Line #98 (got 4 columns instead of 11)\n    Line #100 (got 13 columns instead of 11)\n    Line #103 (got 14 columns instead of 11)\n    Line #104 (got 2 columns instead of 11)\n    Line #106 (got 9 columns instead of 11)\n    Line #107 (got 6 columns instead of 11)\n    Line #109 (got 9 columns instead of 11)\n    Line #110 (got 4 columns instead of 11)\n    Line #112 (got 14 columns instead of 11)\n    Line #113 (got 4 columns instead of 11)\n    Line #115 (got 8 columns instead of 11)\n    Line #116 (got 3 columns instead of 11)\n    Line #119 (got 6 columns instead of 11)\n    Line #121 (got 10 columns instead of 11)\n    Line #122 (got 7 columns instead of 11)\n    Line #124 (got 5 columns instead of 11)\n    Line #125 (got 5 columns instead of 11)\n    Line #127 (got 10 columns instead of 11)\n    Line #128 (got 7 columns instead of 11)\n    Line #130 (got 7 columns instead of 11)\n    Line #131 (got 3 columns instead of 11)\n    Line #133 (got 9 columns instead of 11)\n    Line #134 (got 4 columns instead of 11)\n    Line #137 (got 4 columns instead of 11)\n    Line #139 (got 14 columns instead of 11)\n    Line #140 (got 1 columns instead of 11)\n    Line #141 (got 8 columns instead of 11)\n    Line #144 (got 4 columns instead of 11)\n    Line #146 (got 10 columns instead of 11)\n    Line #147 (got 8 columns instead of 11)\n    Line #149 (got 9 columns instead of 11)\n    Line #150 (got 3 columns instead of 11)\n    Line #153 (got 7 columns instead of 11)\n    Line #155 (got 6 columns instead of 11)\n    Line #156 (got 5 columns instead of 11)\n    Line #158 (got 9 columns instead of 11)\n    Line #159 (got 6 columns instead of 11)\n    Line #161 (got 13 columns instead of 11)\n    Line #162 (got 13 columns instead of 11)\n    Line #164 (got 7 columns instead of 11)\n    Line #165 (got 3 columns instead of 11)\n    Line #167 (got 9 columns instead of 11)\n    Line #168 (got 10 columns instead of 11)\n    Line #170 (got 9 columns instead of 11)\n    Line #171 (got 12 columns instead of 11)\n    Line #174 (got 8 columns instead of 11)\n    Line #176 (got 5 columns instead of 11)\n    Line #177 (got 7 columns instead of 11)\n    Line #179 (got 7 columns instead of 11)\n    Line #180 (got 7 columns instead of 11)\n    Line #183 (got 5 columns instead of 11)\n    Line #185 (got 14 columns instead of 11)\n    Line #186 (got 3 columns instead of 11)\n    Line #188 (got 8 columns instead of 11)\n    Line #189 (got 3 columns instead of 11)\n    Line #192 (got 3 columns instead of 11)\n    Line #194 (got 6 columns instead of 11)\n    Line #195 (got 4 columns instead of 11)\n    Line #197 (got 14 columns instead of 11)\n    Line #198 (got 2 columns instead of 11)\n    Line #200 (got 10 columns instead of 11)\n    Line #201 (got 4 columns instead of 11)\n    Line #203 (got 7 columns instead of 11)\n    Line #204 (got 3 columns instead of 11)\n    Line #207 (got 7 columns instead of 11)\n    Line #210 (got 4 columns instead of 11)\n    Line #212 (got 13 columns instead of 11)\n    Line #213 (got 8 columns instead of 11)\n    Line #215 (got 6 columns instead of 11)\n    Line #216 (got 9 columns instead of 11)\n    Line #218 (got 9 columns instead of 11)\n    Line #219 (got 4 columns instead of 11)\n    Line #221 (got 9 columns instead of 11)\n    Line #222 (got 3 columns instead of 11)\n    Line #224 (got 8 columns instead of 11)\n    Line #225 (got 8 columns instead of 11)\n    Line #227 (got 8 columns instead of 11)\n    Line #228 (got 7 columns instead of 11)\n    Line #230 (got 16 columns instead of 11)\n    Line #231 (got 2 columns instead of 11)\n    Line #232 (got 3 columns instead of 11)\n    Line #234 (got 10 columns instead of 11)\n    Line #235 (got 8 columns instead of 11)\n    Line #237 (got 14 columns instead of 11)\n    Line #238 (got 4 columns instead of 11)\n    Line #239 (got 5 columns instead of 11)\n    Line #241 (got 10 columns instead of 11)\n    Line #242 (got 2 columns instead of 11)\n    Line #244 (got 8 columns instead of 11)\n    Line #245 (got 7 columns instead of 11)\n    Line #247 (got 12 columns instead of 11)\n    Line #248 (got 2 columns instead of 11)\n    Line #250 (got 13 columns instead of 11)\n    Line #251 (got 4 columns instead of 11)\n    Line #253 (got 10 columns instead of 11)\n    Line #254 (got 6 columns instead of 11)\n    Line #256 (got 5 columns instead of 11)\n    Line #257 (got 3 columns instead of 11)\n    Line #259 (got 14 columns instead of 11)\n    Line #260 (got 8 columns instead of 11)\n    Line #261 (got 2 columns instead of 11)\n    Line #264 (got 7 columns instead of 11)\n    Line #266 (got 12 columns instead of 11)\n    Line #267 (got 8 columns instead of 11)\n    Line #269 (got 14 columns instead of 11)\n    Line #270 (got 9 columns instead of 11)\n    Line #272 (got 6 columns instead of 11)\n    Line #273 (got 3 columns instead of 11)\n    Line #275 (got 8 columns instead of 11)\n    Line #276 (got 3 columns instead of 11)\n    Line #278 (got 15 columns instead of 11)\n    Line #279 (got 12 columns instead of 11)\n    Line #280 (got 4 columns instead of 11)\n    Line #282 (got 9 columns instead of 11)\n    Line #285 (got 9 columns instead of 11)\n    Line #286 (got 5 columns instead of 11)\n    Line #288 (got 10 columns instead of 11)\n    Line #289 (got 2 columns instead of 11)\n    Line #291 (got 13 columns instead of 11)\n    Line #292 (got 3 columns instead of 11)\n    Line #294 (got 8 columns instead of 11)\n    Line #295 (got 7 columns instead of 11)\n    Line #297 (got 9 columns instead of 11)\n    Line #298 (got 4 columns instead of 11)\n    Line #300 (got 7 columns instead of 11)\n    Line #301 (got 2 columns instead of 11)\n    Line #303 (got 10 columns instead of 11)\n    Line #304 (got 9 columns instead of 11)\n    Line #306 (got 8 columns instead of 11)\n    Line #307 (got 2 columns instead of 11)\n    Line #309 (got 13 columns instead of 11)\n    Line #310 (got 5 columns instead of 11)\n    Line #312 (got 9 columns instead of 11)\n    Line #313 (got 2 columns instead of 11)\n    Line #315 (got 9 columns instead of 11)\n    Line #316 (got 3 columns instead of 11)\n    Line #319 (got 4 columns instead of 11)\n    Line #321 (got 9 columns instead of 11)\n    Line #322 (got 4 columns instead of 11)\n    Line #324 (got 14 columns instead of 11)\n    Line #325 (got 2 columns instead of 11)\n    Line #326 (got 4 columns instead of 11)\n    Line #328 (got 10 columns instead of 11)\n    Line #329 (got 3 columns instead of 11)\n    Line #332 (got 3 columns instead of 11)\n    Line #334 (got 10 columns instead of 11)\n    Line #335 (got 2 columns instead of 11)\n    Line #337 (got 13 columns instead of 11)\n    Line #338 (got 3 columns instead of 11)\n    Line #341 (got 5 columns instead of 11)\n    Line #343 (got 15 columns instead of 11)\n    Line #344 (got 4 columns instead of 11)\n    Line #345 (got 4 columns instead of 11)\n    Line #347 (got 6 columns instead of 11)\n    Line #348 (got 3 columns instead of 11)\n    Line #350 (got 7 columns instead of 11)\n    Line #351 (got 3 columns instead of 11)\n    Line #353 (got 10 columns instead of 11)\n    Line #354 (got 2 columns instead of 11)\n    Line #356 (got 10 columns instead of 11)\n    Line #357 (got 3 columns instead of 11)\n    Line #359 (got 10 columns instead of 11)\n    Line #360 (got 4 columns instead of 11)\n    Line #362 (got 9 columns instead of 11)\n    Line #363 (got 4 columns instead of 11)\n    Line #366 (got 6 columns instead of 11)\n    Line #368 (got 7 columns instead of 11)\n    Line #369 (got 6 columns instead of 11)\n    Line #371 (got 12 columns instead of 11)\n    Line #372 (got 3 columns instead of 11)\n    Line #374 (got 6 columns instead of 11)\n    Line #375 (got 7 columns instead of 11)\n    Line #377 (got 13 columns instead of 11)\n    Line #378 (got 5 columns instead of 11)\n    Line #379 (got 5 columns instead of 11)\n    Line #381 (got 9 columns instead of 11)\n    Line #382 (got 3 columns instead of 11)\n    Line #384 (got 10 columns instead of 11)\n    Line #385 (got 5 columns instead of 11)\n    Line #387 (got 7 columns instead of 11)\n    Line #388 (got 6 columns instead of 11)\n    Line #390 (got 6 columns instead of 11)\n    Line #391 (got 5 columns instead of 11)\n    Line #393 (got 8 columns instead of 11)\n    Line #394 (got 3 columns instead of 11)\n    Line #396 (got 6 columns instead of 11)\n    Line #397 (got 7 columns instead of 11)\n    Line #399 (got 12 columns instead of 11)\n    Line #400 (got 10 columns instead of 11)\n    Line #402 (got 8 columns instead of 11)\n    Line #403 (got 3 columns instead of 11)\n    Line #405 (got 12 columns instead of 11)\n    Line #406 (got 4 columns instead of 11)\n    Line #408 (got 9 columns instead of 11)\n    Line #411 (got 15 columns instead of 11)\n    Line #412 (got 4 columns instead of 11)\n    Line #414 (got 9 columns instead of 11)\n    Line #415 (got 5 columns instead of 11)\n    Line #417 (got 16 columns instead of 11)\n    Line #418 (got 7 columns instead of 11)\n    Line #419 (got 10 columns instead of 11)\n    Line #421 (got 7 columns instead of 11)\n    Line #422 (got 7 columns instead of 11)\n    Line #424 (got 9 columns instead of 11)\n    Line #425 (got 7 columns instead of 11)\n    Line #427 (got 9 columns instead of 11)\n    Line #428 (got 7 columns instead of 11)\n    Line #430 (got 9 columns instead of 11)\n    Line #431 (got 10 columns instead of 11)\n    Line #433 (got 8 columns instead of 11)\n    Line #434 (got 3 columns instead of 11)\n    Line #436 (got 8 columns instead of 11)\n    Line #437 (got 2 columns instead of 11)\n    Line #439 (got 9 columns instead of 11)\n    Line #440 (got 7 columns instead of 11)\n    Line #442 (got 13 columns instead of 11)\n    Line #443 (got 4 columns instead of 11)\n    Line #446 (got 5 columns instead of 11)\n    Line #448 (got 10 columns instead of 11)\n    Line #449 (got 5 columns instead of 11)\n    Line #451 (got 13 columns instead of 11)\n    Line #452 (got 1 columns instead of 11)\n    Line #453 (got 6 columns instead of 11)\n    Line #455 (got 9 columns instead of 11)\n    Line #456 (got 7 columns instead of 11)\n    Line #458 (got 9 columns instead of 11)\n    Line #459 (got 6 columns instead of 11)\n    Line #461 (got 10 columns instead of 11)\n    Line #462 (got 4 columns instead of 11)\n    Line #465 (got 2 columns instead of 11)\n    Line #467 (got 15 columns instead of 11)\n    Line #468 (got 1 columns instead of 11)\n    Line #472 (got 3 columns instead of 11)\n    Line #474 (got 9 columns instead of 11)\n    Line #475 (got 8 columns instead of 11)\n    Line #478 (got 7 columns instead of 11)\n    Line #480 (got 12 columns instead of 11)\n    Line #481 (got 4 columns instead of 11)\n    Line #483 (got 7 columns instead of 11)\n    Line #484 (got 3 columns instead of 11)\n    Line #486 (got 12 columns instead of 11)\n    Line #489 (got 8 columns instead of 11)\n    Line #490 (got 4 columns instead of 11)\n    Line #492 (got 8 columns instead of 11)\n    Line #493 (got 7 columns instead of 11)\n    Line #495 (got 7 columns instead of 11)\n    Line #496 (got 10 columns instead of 11)\n    Line #498 (got 7 columns instead of 11)\n    Line #499 (got 8 columns instead of 11)\n    Line #501 (got 8 columns instead of 11)\n    Line #502 (got 8 columns instead of 11)\n    Line #504 (got 8 columns instead of 11)\n    Line #505 (got 4 columns instead of 11)\n    Line #507 (got 7 columns instead of 11)\n    Line #508 (got 3 columns instead of 11)\n    Line #510 (got 9 columns instead of 11)\n    Line #511 (got 2 columns instead of 11)\n    Line #513 (got 10 columns instead of 11)\n    Line #514 (got 3 columns instead of 11)\n    Line #516 (got 8 columns instead of 11)\n    Line #517 (got 3 columns instead of 11)\n    Line #519 (got 7 columns instead of 11)\n    Line #520 (got 2 columns instead of 11)\n    Line #522 (got 9 columns instead of 11)\n    Line #523 (got 5 columns instead of 11)\n    Line #525 (got 7 columns instead of 11)\n    Line #526 (got 7 columns instead of 11)\n    Line #528 (got 8 columns instead of 11)\n    Line #529 (got 3 columns instead of 11)\n    Line #531 (got 7 columns instead of 11)\n    Line #532 (got 4 columns instead of 11)\n    Line #534 (got 10 columns instead of 11)\n    Line #535 (got 7 columns instead of 11)\n    Line #537 (got 9 columns instead of 11)\n    Line #538 (got 3 columns instead of 11)\n    Line #540 (got 5 columns instead of 11)\n    Line #541 (got 3 columns instead of 11)\n    Line #544 (got 3 columns instead of 11)\n    Line #547 (got 5 columns instead of 11)\n    Line #549 (got 14 columns instead of 11)\n    Line #550 (got 5 columns instead of 11)\n    Line #552 (got 8 columns instead of 11)\n    Line #553 (got 3 columns instead of 11)\n    Line #555 (got 6 columns instead of 11)\n    Line #556 (got 5 columns instead of 11)\n    Line #558 (got 8 columns instead of 11)\n    Line #559 (got 10 columns instead of 11)\n    Line #561 (got 10 columns instead of 11)\n    Line #562 (got 2 columns instead of 11)\n    Line #564 (got 10 columns instead of 11)\n    Line #565 (got 9 columns instead of 11)\n    Line #567 (got 13 columns instead of 11)\n    Line #568 (got 7 columns instead of 11)\n    Line #570 (got 13 columns instead of 11)\n    Line #571 (got 7 columns instead of 11)\n    Line #573 (got 12 columns instead of 11)\n    Line #574 (got 4 columns instead of 11)\n    Line #577 (got 3 columns instead of 11)\n    Line #579 (got 9 columns instead of 11)\n    Line #580 (got 8 columns instead of 11)\n    Line #582 (got 8 columns instead of 11)\n    Line #583 (got 7 columns instead of 11)\n    Line #585 (got 10 columns instead of 11)\n    Line #586 (got 6 columns instead of 11)\n    Line #589 (got 6 columns instead of 11)\n    Line #591 (got 15 columns instead of 11)\n    Line #592 (got 6 columns instead of 11)\n    Line #593 (got 2 columns instead of 11)\n    Line #595 (got 7 columns instead of 11)\n    Line #596 (got 3 columns instead of 11)\n    Line #598 (got 7 columns instead of 11)\n    Line #599 (got 10 columns instead of 11)\n    Line #602 (got 5 columns instead of 11)\n    Line #604 (got 9 columns instead of 11)\n    Line #605 (got 3 columns instead of 11)\n    Line #607 (got 10 columns instead of 11)\n    Line #608 (got 7 columns instead of 11)\n    Line #610 (got 12 columns instead of 11)\n    Line #611 (got 7 columns instead of 11)\n    Line #613 (got 8 columns instead of 11)\n    Line #614 (got 12 columns instead of 11)\n    Line #616 (got 6 columns instead of 11)\n    Line #617 (got 2 columns instead of 11)\n    Line #619 (got 7 columns instead of 11)\n    Line #620 (got 7 columns instead of 11)\n    Line #622 (got 12 columns instead of 11)\n    Line #623 (got 8 columns instead of 11)\n    Line #626 (got 7 columns instead of 11)\n    Line #628 (got 8 columns instead of 11)\n    Line #629 (got 10 columns instead of 11)\n    Line #631 (got 7 columns instead of 11)\n    Line #632 (got 2 columns instead of 11)\n    Line #634 (got 6 columns instead of 11)\n    Line #635 (got 2 columns instead of 11)\n    Line #637 (got 9 columns instead of 11)\n    Line #638 (got 5 columns instead of 11)\n    Line #640 (got 7 columns instead of 11)\n    Line #641 (got 12 columns instead of 11)\n    Line #643 (got 8 columns instead of 11)\n    Line #644 (got 12 columns instead of 11)\n    Line #646 (got 10 columns instead of 11)\n    Line #647 (got 7 columns instead of 11)\n    Line #649 (got 5 columns instead of 11)\n    Line #650 (got 7 columns instead of 11)\n    Line #652 (got 9 columns instead of 11)\n    Line #653 (got 3 columns instead of 11)\n    Line #655 (got 6 columns instead of 11)\n    Line #656 (got 8 columns instead of 11)\n    Line #658 (got 6 columns instead of 11)\n    Line #659 (got 3 columns instead of 11)\n    Line #661 (got 8 columns instead of 11)\n    Line #662 (got 4 columns instead of 11)\n    Line #665 (got 2 columns instead of 11)\n    Line #667 (got 10 columns instead of 11)\n    Line #668 (got 3 columns instead of 11)\n    Line #670 (got 7 columns instead of 11)\n    Line #671 (got 3 columns instead of 11)\n    Line #673 (got 7 columns instead of 11)\n    Line #674 (got 8 columns instead of 11)\n    Line #676 (got 6 columns instead of 11)\n    Line #677 (got 5 columns instead of 11)\n    Line #679 (got 10 columns instead of 11)\n    Line #680 (got 3 columns instead of 11)\n    Line #682 (got 8 columns instead of 11)\n    Line #683 (got 3 columns instead of 11)\n    Line #686 (got 3 columns instead of 11)\n    Line #688 (got 7 columns instead of 11)\n    Line #689 (got 5 columns instead of 11)\n    Line #692 (got 2 columns instead of 11)\n    Line #694 (got 8 columns instead of 11)\n    Line #695 (got 6 columns instead of 11)\n    Line #697 (got 14 columns instead of 11)\n    Line #698 (got 6 columns instead of 11)\n    Line #700 (got 10 columns instead of 11)\n    Line #701 (got 4 columns instead of 11)\n    Line #703 (got 6 columns instead of 11)\n    Line #704 (got 9 columns instead of 11)\n    Line #706 (got 16 columns instead of 11)\n    Line #707 (got 9 columns instead of 11)\n    Line #708 (got 2 columns instead of 11)\n    Line #711 (got 2 columns instead of 11)\n    Line #714 (got 6 columns instead of 11)\n    Line #716 (got 10 columns instead of 11)\n    Line #717 (got 2 columns instead of 11)\n    Line #720 (got 6 columns instead of 11)\n    Line #722 (got 8 columns instead of 11)\n    Line #723 (got 7 columns instead of 11)\n    Line #725 (got 6 columns instead of 11)\n    Line #726 (got 4 columns instead of 11)\n    Line #728 (got 7 columns instead of 11)\n    Line #729 (got 8 columns instead of 11)\n    Line #731 (got 7 columns instead of 11)\n    Line #732 (got 8 columns instead of 11)\n    Line #734 (got 7 columns instead of 11)\n    Line #735 (got 12 columns instead of 11)\n    Line #737 (got 7 columns instead of 11)\n    Line #738 (got 6 columns instead of 11)\n    Line #740 (got 9 columns instead of 11)\n    Line #741 (got 8 columns instead of 11)\n    Line #743 (got 8 columns instead of 11)\n    Line #744 (got 2 columns instead of 11)\n    Line #746 (got 9 columns instead of 11)\n    Line #747 (got 6 columns instead of 11)\n    Line #749 (got 10 columns instead of 11)\n    Line #750 (got 2 columns instead of 11)\n    Line #752 (got 5 columns instead of 11)\n    Line #755 (got 7 columns instead of 11)\n    Line #756 (got 4 columns instead of 11)\n    Line #758 (got 12 columns instead of 11)\n    Line #759 (got 2 columns instead of 11)\n    Line #761 (got 12 columns instead of 11)\n    Line #762 (got 4 columns instead of 11)\n    Line #764 (got 7 columns instead of 11)\n    Line #765 (got 4 columns instead of 11)\n    Line #767 (got 7 columns instead of 11)\n    Line #768 (got 3 columns instead of 11)\n    Line #770 (got 7 columns instead of 11)\n    Line #771 (got 4 columns instead of 11)\n    Line #773 (got 7 columns instead of 11)\n    Line #774 (got 4 columns instead of 11)\n    Line #776 (got 5 columns instead of 11)\n    Line #777 (got 5 columns instead of 11)\n    Line #779 (got 9 columns instead of 11)\n    Line #780 (got 6 columns instead of 11)\n    Line #782 (got 6 columns instead of 11)\n    Line #783 (got 4 columns instead of 11)\n    Line #786 (got 7 columns instead of 11)\n    Line #788 (got 8 columns instead of 11)\n    Line #789 (got 4 columns instead of 11)\n    Line #792 (got 5 columns instead of 11)\n    Line #794 (got 12 columns instead of 11)\n    Line #795 (got 3 columns instead of 11)\n    Line #797 (got 7 columns instead of 11)\n    Line #798 (got 3 columns instead of 11)\n    Line #800 (got 13 columns instead of 11)\n    Line #801 (got 4 columns instead of 11)\n    Line #802 (got 3 columns instead of 11)\n    Line #804 (got 13 columns instead of 11)\n    Line #805 (got 3 columns instead of 11)\n    Line #807 (got 7 columns instead of 11)\n    Line #808 (got 3 columns instead of 11)\n    Line #810 (got 8 columns instead of 11)\n    Line #811 (got 9 columns instead of 11)\n    Line #813 (got 13 columns instead of 11)\n    Line #814 (got 13 columns instead of 11)\n    Line #816 (got 7 columns instead of 11)\n    Line #817 (got 6 columns instead of 11)\n    Line #819 (got 12 columns instead of 11)\n    Line #820 (got 1 columns instead of 11)\n    Line #823 (got 13 columns instead of 11)\n    Line #824 (got 8 columns instead of 11)\n    Line #826 (got 14 columns instead of 11)\n    Line #827 (got 2 columns instead of 11)\n    Line #828 (got 3 columns instead of 11)\n    Line #830 (got 10 columns instead of 11)\n    Line #831 (got 6 columns instead of 11)\n    Line #833 (got 7 columns instead of 11)\n    Line #834 (got 6 columns instead of 11)\n    Line #836 (got 8 columns instead of 11)\n    Line #837 (got 5 columns instead of 11)\n    Line #839 (got 8 columns instead of 11)\n    Line #840 (got 4 columns instead of 11)\n    Line #842 (got 12 columns instead of 11)\n    Line #843 (got 4 columns instead of 11)\n    Line #845 (got 10 columns instead of 11)\n    Line #846 (got 9 columns instead of 11)\n    Line #849 (got 8 columns instead of 11)\n    Line #851 (got 9 columns instead of 11)\n    Line #852 (got 3 columns instead of 11)\n    Line #855 (got 6 columns instead of 11)\n    Line #857 (got 12 columns instead of 11)\n    Line #858 (got 5 columns instead of 11)\n    Line #860 (got 8 columns instead of 11)\n    Line #861 (got 7 columns instead of 11)",
     "output_type": "error",
     "traceback": [
      "\u001b[0;31m---------------------------------------------------------------------------\u001b[0m",
      "\u001b[0;31mValueError\u001b[0m                                Traceback (most recent call last)",
      "\u001b[0;32m<ipython-input-32-9f6a74b1b57b>\u001b[0m in \u001b[0;36m<module>\u001b[0;34m()\u001b[0m\n\u001b[1;32m      1\u001b[0m \u001b[0;31m#generating numby data object using real file.\u001b[0m\u001b[0;34m\u001b[0m\u001b[0;34m\u001b[0m\u001b[0m\n\u001b[0;32m----> 2\u001b[0;31m \u001b[0mdata\u001b[0m\u001b[0;34m=\u001b[0m\u001b[0mnp\u001b[0m\u001b[0;34m.\u001b[0m\u001b[0mgenfromtxt\u001b[0m\u001b[0;34m(\u001b[0m\u001b[0;34m'jokes.txt'\u001b[0m\u001b[0;34m)\u001b[0m\u001b[0;34m\u001b[0m\u001b[0m\n\u001b[0m\u001b[1;32m      3\u001b[0m \u001b[0mdata\u001b[0m\u001b[0;34m\u001b[0m\u001b[0m\n",
      "\u001b[0;32m~/anaconda/lib/python3.6/site-packages/numpy/lib/npyio.py\u001b[0m in \u001b[0;36mgenfromtxt\u001b[0;34m(fname, dtype, comments, delimiter, skip_header, skip_footer, converters, missing_values, filling_values, usecols, names, excludelist, deletechars, replace_space, autostrip, case_sensitive, defaultfmt, unpack, usemask, loose, invalid_raise, max_rows)\u001b[0m\n\u001b[1;32m   1826\u001b[0m             \u001b[0;31m# Raise an exception ?\u001b[0m\u001b[0;34m\u001b[0m\u001b[0;34m\u001b[0m\u001b[0m\n\u001b[1;32m   1827\u001b[0m             \u001b[0;32mif\u001b[0m \u001b[0minvalid_raise\u001b[0m\u001b[0;34m:\u001b[0m\u001b[0;34m\u001b[0m\u001b[0m\n\u001b[0;32m-> 1828\u001b[0;31m                 \u001b[0;32mraise\u001b[0m \u001b[0mValueError\u001b[0m\u001b[0;34m(\u001b[0m\u001b[0merrmsg\u001b[0m\u001b[0;34m)\u001b[0m\u001b[0;34m\u001b[0m\u001b[0m\n\u001b[0m\u001b[1;32m   1829\u001b[0m             \u001b[0;31m# Issue a warning ?\u001b[0m\u001b[0;34m\u001b[0m\u001b[0;34m\u001b[0m\u001b[0m\n\u001b[1;32m   1830\u001b[0m             \u001b[0;32melse\u001b[0m\u001b[0;34m:\u001b[0m\u001b[0;34m\u001b[0m\u001b[0m\n",
      "\u001b[0;31mValueError\u001b[0m: Some errors were detected !\n    Line #2 (got 3 columns instead of 11)\n    Line #5 (got 10 columns instead of 11)\n    Line #8 (got 16 columns instead of 11)\n    Line #9 (got 1 columns instead of 11)\n    Line #10 (got 2 columns instead of 11)\n    Line #12 (got 9 columns instead of 11)\n    Line #13 (got 4 columns instead of 11)\n    Line #16 (got 4 columns instead of 11)\n    Line #18 (got 7 columns instead of 11)\n    Line #19 (got 7 columns instead of 11)\n    Line #21 (got 15 columns instead of 11)\n    Line #22 (got 7 columns instead of 11)\n    Line #24 (got 7 columns instead of 11)\n    Line #25 (got 4 columns instead of 11)\n    Line #27 (got 7 columns instead of 11)\n    Line #28 (got 3 columns instead of 11)\n    Line #30 (got 14 columns instead of 11)\n    Line #31 (got 7 columns instead of 11)\n    Line #33 (got 9 columns instead of 11)\n    Line #34 (got 3 columns instead of 11)\n    Line #36 (got 8 columns instead of 11)\n    Line #37 (got 3 columns instead of 11)\n    Line #39 (got 9 columns instead of 11)\n    Line #40 (got 7 columns instead of 11)\n    Line #42 (got 6 columns instead of 11)\n    Line #43 (got 9 columns instead of 11)\n    Line #45 (got 8 columns instead of 11)\n    Line #46 (got 7 columns instead of 11)\n    Line #48 (got 10 columns instead of 11)\n    Line #49 (got 10 columns instead of 11)\n    Line #51 (got 13 columns instead of 11)\n    Line #52 (got 6 columns instead of 11)\n    Line #54 (got 8 columns instead of 11)\n    Line #55 (got 7 columns instead of 11)\n    Line #57 (got 12 columns instead of 11)\n    Line #58 (got 7 columns instead of 11)\n    Line #60 (got 8 columns instead of 11)\n    Line #61 (got 6 columns instead of 11)\n    Line #63 (got 9 columns instead of 11)\n    Line #64 (got 2 columns instead of 11)\n    Line #66 (got 12 columns instead of 11)\n    Line #67 (got 5 columns instead of 11)\n    Line #69 (got 10 columns instead of 11)\n    Line #70 (got 5 columns instead of 11)\n    Line #72 (got 8 columns instead of 11)\n    Line #73 (got 14 columns instead of 11)\n    Line #75 (got 6 columns instead of 11)\n    Line #76 (got 10 columns instead of 11)\n    Line #78 (got 10 columns instead of 11)\n    Line #79 (got 4 columns instead of 11)\n    Line #82 (got 8 columns instead of 11)\n    Line #84 (got 8 columns instead of 11)\n    Line #85 (got 6 columns instead of 11)\n    Line #87 (got 9 columns instead of 11)\n    Line #88 (got 6 columns instead of 11)\n    Line #90 (got 14 columns instead of 11)\n    Line #91 (got 1 columns instead of 11)\n    Line #92 (got 8 columns instead of 11)\n    Line #94 (got 12 columns instead of 11)\n    Line #95 (got 7 columns instead of 11)\n    Line #97 (got 12 columns instead of 11)\n    Line #98 (got 4 columns instead of 11)\n    Line #100 (got 13 columns instead of 11)\n    Line #103 (got 14 columns instead of 11)\n    Line #104 (got 2 columns instead of 11)\n    Line #106 (got 9 columns instead of 11)\n    Line #107 (got 6 columns instead of 11)\n    Line #109 (got 9 columns instead of 11)\n    Line #110 (got 4 columns instead of 11)\n    Line #112 (got 14 columns instead of 11)\n    Line #113 (got 4 columns instead of 11)\n    Line #115 (got 8 columns instead of 11)\n    Line #116 (got 3 columns instead of 11)\n    Line #119 (got 6 columns instead of 11)\n    Line #121 (got 10 columns instead of 11)\n    Line #122 (got 7 columns instead of 11)\n    Line #124 (got 5 columns instead of 11)\n    Line #125 (got 5 columns instead of 11)\n    Line #127 (got 10 columns instead of 11)\n    Line #128 (got 7 columns instead of 11)\n    Line #130 (got 7 columns instead of 11)\n    Line #131 (got 3 columns instead of 11)\n    Line #133 (got 9 columns instead of 11)\n    Line #134 (got 4 columns instead of 11)\n    Line #137 (got 4 columns instead of 11)\n    Line #139 (got 14 columns instead of 11)\n    Line #140 (got 1 columns instead of 11)\n    Line #141 (got 8 columns instead of 11)\n    Line #144 (got 4 columns instead of 11)\n    Line #146 (got 10 columns instead of 11)\n    Line #147 (got 8 columns instead of 11)\n    Line #149 (got 9 columns instead of 11)\n    Line #150 (got 3 columns instead of 11)\n    Line #153 (got 7 columns instead of 11)\n    Line #155 (got 6 columns instead of 11)\n    Line #156 (got 5 columns instead of 11)\n    Line #158 (got 9 columns instead of 11)\n    Line #159 (got 6 columns instead of 11)\n    Line #161 (got 13 columns instead of 11)\n    Line #162 (got 13 columns instead of 11)\n    Line #164 (got 7 columns instead of 11)\n    Line #165 (got 3 columns instead of 11)\n    Line #167 (got 9 columns instead of 11)\n    Line #168 (got 10 columns instead of 11)\n    Line #170 (got 9 columns instead of 11)\n    Line #171 (got 12 columns instead of 11)\n    Line #174 (got 8 columns instead of 11)\n    Line #176 (got 5 columns instead of 11)\n    Line #177 (got 7 columns instead of 11)\n    Line #179 (got 7 columns instead of 11)\n    Line #180 (got 7 columns instead of 11)\n    Line #183 (got 5 columns instead of 11)\n    Line #185 (got 14 columns instead of 11)\n    Line #186 (got 3 columns instead of 11)\n    Line #188 (got 8 columns instead of 11)\n    Line #189 (got 3 columns instead of 11)\n    Line #192 (got 3 columns instead of 11)\n    Line #194 (got 6 columns instead of 11)\n    Line #195 (got 4 columns instead of 11)\n    Line #197 (got 14 columns instead of 11)\n    Line #198 (got 2 columns instead of 11)\n    Line #200 (got 10 columns instead of 11)\n    Line #201 (got 4 columns instead of 11)\n    Line #203 (got 7 columns instead of 11)\n    Line #204 (got 3 columns instead of 11)\n    Line #207 (got 7 columns instead of 11)\n    Line #210 (got 4 columns instead of 11)\n    Line #212 (got 13 columns instead of 11)\n    Line #213 (got 8 columns instead of 11)\n    Line #215 (got 6 columns instead of 11)\n    Line #216 (got 9 columns instead of 11)\n    Line #218 (got 9 columns instead of 11)\n    Line #219 (got 4 columns instead of 11)\n    Line #221 (got 9 columns instead of 11)\n    Line #222 (got 3 columns instead of 11)\n    Line #224 (got 8 columns instead of 11)\n    Line #225 (got 8 columns instead of 11)\n    Line #227 (got 8 columns instead of 11)\n    Line #228 (got 7 columns instead of 11)\n    Line #230 (got 16 columns instead of 11)\n    Line #231 (got 2 columns instead of 11)\n    Line #232 (got 3 columns instead of 11)\n    Line #234 (got 10 columns instead of 11)\n    Line #235 (got 8 columns instead of 11)\n    Line #237 (got 14 columns instead of 11)\n    Line #238 (got 4 columns instead of 11)\n    Line #239 (got 5 columns instead of 11)\n    Line #241 (got 10 columns instead of 11)\n    Line #242 (got 2 columns instead of 11)\n    Line #244 (got 8 columns instead of 11)\n    Line #245 (got 7 columns instead of 11)\n    Line #247 (got 12 columns instead of 11)\n    Line #248 (got 2 columns instead of 11)\n    Line #250 (got 13 columns instead of 11)\n    Line #251 (got 4 columns instead of 11)\n    Line #253 (got 10 columns instead of 11)\n    Line #254 (got 6 columns instead of 11)\n    Line #256 (got 5 columns instead of 11)\n    Line #257 (got 3 columns instead of 11)\n    Line #259 (got 14 columns instead of 11)\n    Line #260 (got 8 columns instead of 11)\n    Line #261 (got 2 columns instead of 11)\n    Line #264 (got 7 columns instead of 11)\n    Line #266 (got 12 columns instead of 11)\n    Line #267 (got 8 columns instead of 11)\n    Line #269 (got 14 columns instead of 11)\n    Line #270 (got 9 columns instead of 11)\n    Line #272 (got 6 columns instead of 11)\n    Line #273 (got 3 columns instead of 11)\n    Line #275 (got 8 columns instead of 11)\n    Line #276 (got 3 columns instead of 11)\n    Line #278 (got 15 columns instead of 11)\n    Line #279 (got 12 columns instead of 11)\n    Line #280 (got 4 columns instead of 11)\n    Line #282 (got 9 columns instead of 11)\n    Line #285 (got 9 columns instead of 11)\n    Line #286 (got 5 columns instead of 11)\n    Line #288 (got 10 columns instead of 11)\n    Line #289 (got 2 columns instead of 11)\n    Line #291 (got 13 columns instead of 11)\n    Line #292 (got 3 columns instead of 11)\n    Line #294 (got 8 columns instead of 11)\n    Line #295 (got 7 columns instead of 11)\n    Line #297 (got 9 columns instead of 11)\n    Line #298 (got 4 columns instead of 11)\n    Line #300 (got 7 columns instead of 11)\n    Line #301 (got 2 columns instead of 11)\n    Line #303 (got 10 columns instead of 11)\n    Line #304 (got 9 columns instead of 11)\n    Line #306 (got 8 columns instead of 11)\n    Line #307 (got 2 columns instead of 11)\n    Line #309 (got 13 columns instead of 11)\n    Line #310 (got 5 columns instead of 11)\n    Line #312 (got 9 columns instead of 11)\n    Line #313 (got 2 columns instead of 11)\n    Line #315 (got 9 columns instead of 11)\n    Line #316 (got 3 columns instead of 11)\n    Line #319 (got 4 columns instead of 11)\n    Line #321 (got 9 columns instead of 11)\n    Line #322 (got 4 columns instead of 11)\n    Line #324 (got 14 columns instead of 11)\n    Line #325 (got 2 columns instead of 11)\n    Line #326 (got 4 columns instead of 11)\n    Line #328 (got 10 columns instead of 11)\n    Line #329 (got 3 columns instead of 11)\n    Line #332 (got 3 columns instead of 11)\n    Line #334 (got 10 columns instead of 11)\n    Line #335 (got 2 columns instead of 11)\n    Line #337 (got 13 columns instead of 11)\n    Line #338 (got 3 columns instead of 11)\n    Line #341 (got 5 columns instead of 11)\n    Line #343 (got 15 columns instead of 11)\n    Line #344 (got 4 columns instead of 11)\n    Line #345 (got 4 columns instead of 11)\n    Line #347 (got 6 columns instead of 11)\n    Line #348 (got 3 columns instead of 11)\n    Line #350 (got 7 columns instead of 11)\n    Line #351 (got 3 columns instead of 11)\n    Line #353 (got 10 columns instead of 11)\n    Line #354 (got 2 columns instead of 11)\n    Line #356 (got 10 columns instead of 11)\n    Line #357 (got 3 columns instead of 11)\n    Line #359 (got 10 columns instead of 11)\n    Line #360 (got 4 columns instead of 11)\n    Line #362 (got 9 columns instead of 11)\n    Line #363 (got 4 columns instead of 11)\n    Line #366 (got 6 columns instead of 11)\n    Line #368 (got 7 columns instead of 11)\n    Line #369 (got 6 columns instead of 11)\n    Line #371 (got 12 columns instead of 11)\n    Line #372 (got 3 columns instead of 11)\n    Line #374 (got 6 columns instead of 11)\n    Line #375 (got 7 columns instead of 11)\n    Line #377 (got 13 columns instead of 11)\n    Line #378 (got 5 columns instead of 11)\n    Line #379 (got 5 columns instead of 11)\n    Line #381 (got 9 columns instead of 11)\n    Line #382 (got 3 columns instead of 11)\n    Line #384 (got 10 columns instead of 11)\n    Line #385 (got 5 columns instead of 11)\n    Line #387 (got 7 columns instead of 11)\n    Line #388 (got 6 columns instead of 11)\n    Line #390 (got 6 columns instead of 11)\n    Line #391 (got 5 columns instead of 11)\n    Line #393 (got 8 columns instead of 11)\n    Line #394 (got 3 columns instead of 11)\n    Line #396 (got 6 columns instead of 11)\n    Line #397 (got 7 columns instead of 11)\n    Line #399 (got 12 columns instead of 11)\n    Line #400 (got 10 columns instead of 11)\n    Line #402 (got 8 columns instead of 11)\n    Line #403 (got 3 columns instead of 11)\n    Line #405 (got 12 columns instead of 11)\n    Line #406 (got 4 columns instead of 11)\n    Line #408 (got 9 columns instead of 11)\n    Line #411 (got 15 columns instead of 11)\n    Line #412 (got 4 columns instead of 11)\n    Line #414 (got 9 columns instead of 11)\n    Line #415 (got 5 columns instead of 11)\n    Line #417 (got 16 columns instead of 11)\n    Line #418 (got 7 columns instead of 11)\n    Line #419 (got 10 columns instead of 11)\n    Line #421 (got 7 columns instead of 11)\n    Line #422 (got 7 columns instead of 11)\n    Line #424 (got 9 columns instead of 11)\n    Line #425 (got 7 columns instead of 11)\n    Line #427 (got 9 columns instead of 11)\n    Line #428 (got 7 columns instead of 11)\n    Line #430 (got 9 columns instead of 11)\n    Line #431 (got 10 columns instead of 11)\n    Line #433 (got 8 columns instead of 11)\n    Line #434 (got 3 columns instead of 11)\n    Line #436 (got 8 columns instead of 11)\n    Line #437 (got 2 columns instead of 11)\n    Line #439 (got 9 columns instead of 11)\n    Line #440 (got 7 columns instead of 11)\n    Line #442 (got 13 columns instead of 11)\n    Line #443 (got 4 columns instead of 11)\n    Line #446 (got 5 columns instead of 11)\n    Line #448 (got 10 columns instead of 11)\n    Line #449 (got 5 columns instead of 11)\n    Line #451 (got 13 columns instead of 11)\n    Line #452 (got 1 columns instead of 11)\n    Line #453 (got 6 columns instead of 11)\n    Line #455 (got 9 columns instead of 11)\n    Line #456 (got 7 columns instead of 11)\n    Line #458 (got 9 columns instead of 11)\n    Line #459 (got 6 columns instead of 11)\n    Line #461 (got 10 columns instead of 11)\n    Line #462 (got 4 columns instead of 11)\n    Line #465 (got 2 columns instead of 11)\n    Line #467 (got 15 columns instead of 11)\n    Line #468 (got 1 columns instead of 11)\n    Line #472 (got 3 columns instead of 11)\n    Line #474 (got 9 columns instead of 11)\n    Line #475 (got 8 columns instead of 11)\n    Line #478 (got 7 columns instead of 11)\n    Line #480 (got 12 columns instead of 11)\n    Line #481 (got 4 columns instead of 11)\n    Line #483 (got 7 columns instead of 11)\n    Line #484 (got 3 columns instead of 11)\n    Line #486 (got 12 columns instead of 11)\n    Line #489 (got 8 columns instead of 11)\n    Line #490 (got 4 columns instead of 11)\n    Line #492 (got 8 columns instead of 11)\n    Line #493 (got 7 columns instead of 11)\n    Line #495 (got 7 columns instead of 11)\n    Line #496 (got 10 columns instead of 11)\n    Line #498 (got 7 columns instead of 11)\n    Line #499 (got 8 columns instead of 11)\n    Line #501 (got 8 columns instead of 11)\n    Line #502 (got 8 columns instead of 11)\n    Line #504 (got 8 columns instead of 11)\n    Line #505 (got 4 columns instead of 11)\n    Line #507 (got 7 columns instead of 11)\n    Line #508 (got 3 columns instead of 11)\n    Line #510 (got 9 columns instead of 11)\n    Line #511 (got 2 columns instead of 11)\n    Line #513 (got 10 columns instead of 11)\n    Line #514 (got 3 columns instead of 11)\n    Line #516 (got 8 columns instead of 11)\n    Line #517 (got 3 columns instead of 11)\n    Line #519 (got 7 columns instead of 11)\n    Line #520 (got 2 columns instead of 11)\n    Line #522 (got 9 columns instead of 11)\n    Line #523 (got 5 columns instead of 11)\n    Line #525 (got 7 columns instead of 11)\n    Line #526 (got 7 columns instead of 11)\n    Line #528 (got 8 columns instead of 11)\n    Line #529 (got 3 columns instead of 11)\n    Line #531 (got 7 columns instead of 11)\n    Line #532 (got 4 columns instead of 11)\n    Line #534 (got 10 columns instead of 11)\n    Line #535 (got 7 columns instead of 11)\n    Line #537 (got 9 columns instead of 11)\n    Line #538 (got 3 columns instead of 11)\n    Line #540 (got 5 columns instead of 11)\n    Line #541 (got 3 columns instead of 11)\n    Line #544 (got 3 columns instead of 11)\n    Line #547 (got 5 columns instead of 11)\n    Line #549 (got 14 columns instead of 11)\n    Line #550 (got 5 columns instead of 11)\n    Line #552 (got 8 columns instead of 11)\n    Line #553 (got 3 columns instead of 11)\n    Line #555 (got 6 columns instead of 11)\n    Line #556 (got 5 columns instead of 11)\n    Line #558 (got 8 columns instead of 11)\n    Line #559 (got 10 columns instead of 11)\n    Line #561 (got 10 columns instead of 11)\n    Line #562 (got 2 columns instead of 11)\n    Line #564 (got 10 columns instead of 11)\n    Line #565 (got 9 columns instead of 11)\n    Line #567 (got 13 columns instead of 11)\n    Line #568 (got 7 columns instead of 11)\n    Line #570 (got 13 columns instead of 11)\n    Line #571 (got 7 columns instead of 11)\n    Line #573 (got 12 columns instead of 11)\n    Line #574 (got 4 columns instead of 11)\n    Line #577 (got 3 columns instead of 11)\n    Line #579 (got 9 columns instead of 11)\n    Line #580 (got 8 columns instead of 11)\n    Line #582 (got 8 columns instead of 11)\n    Line #583 (got 7 columns instead of 11)\n    Line #585 (got 10 columns instead of 11)\n    Line #586 (got 6 columns instead of 11)\n    Line #589 (got 6 columns instead of 11)\n    Line #591 (got 15 columns instead of 11)\n    Line #592 (got 6 columns instead of 11)\n    Line #593 (got 2 columns instead of 11)\n    Line #595 (got 7 columns instead of 11)\n    Line #596 (got 3 columns instead of 11)\n    Line #598 (got 7 columns instead of 11)\n    Line #599 (got 10 columns instead of 11)\n    Line #602 (got 5 columns instead of 11)\n    Line #604 (got 9 columns instead of 11)\n    Line #605 (got 3 columns instead of 11)\n    Line #607 (got 10 columns instead of 11)\n    Line #608 (got 7 columns instead of 11)\n    Line #610 (got 12 columns instead of 11)\n    Line #611 (got 7 columns instead of 11)\n    Line #613 (got 8 columns instead of 11)\n    Line #614 (got 12 columns instead of 11)\n    Line #616 (got 6 columns instead of 11)\n    Line #617 (got 2 columns instead of 11)\n    Line #619 (got 7 columns instead of 11)\n    Line #620 (got 7 columns instead of 11)\n    Line #622 (got 12 columns instead of 11)\n    Line #623 (got 8 columns instead of 11)\n    Line #626 (got 7 columns instead of 11)\n    Line #628 (got 8 columns instead of 11)\n    Line #629 (got 10 columns instead of 11)\n    Line #631 (got 7 columns instead of 11)\n    Line #632 (got 2 columns instead of 11)\n    Line #634 (got 6 columns instead of 11)\n    Line #635 (got 2 columns instead of 11)\n    Line #637 (got 9 columns instead of 11)\n    Line #638 (got 5 columns instead of 11)\n    Line #640 (got 7 columns instead of 11)\n    Line #641 (got 12 columns instead of 11)\n    Line #643 (got 8 columns instead of 11)\n    Line #644 (got 12 columns instead of 11)\n    Line #646 (got 10 columns instead of 11)\n    Line #647 (got 7 columns instead of 11)\n    Line #649 (got 5 columns instead of 11)\n    Line #650 (got 7 columns instead of 11)\n    Line #652 (got 9 columns instead of 11)\n    Line #653 (got 3 columns instead of 11)\n    Line #655 (got 6 columns instead of 11)\n    Line #656 (got 8 columns instead of 11)\n    Line #658 (got 6 columns instead of 11)\n    Line #659 (got 3 columns instead of 11)\n    Line #661 (got 8 columns instead of 11)\n    Line #662 (got 4 columns instead of 11)\n    Line #665 (got 2 columns instead of 11)\n    Line #667 (got 10 columns instead of 11)\n    Line #668 (got 3 columns instead of 11)\n    Line #670 (got 7 columns instead of 11)\n    Line #671 (got 3 columns instead of 11)\n    Line #673 (got 7 columns instead of 11)\n    Line #674 (got 8 columns instead of 11)\n    Line #676 (got 6 columns instead of 11)\n    Line #677 (got 5 columns instead of 11)\n    Line #679 (got 10 columns instead of 11)\n    Line #680 (got 3 columns instead of 11)\n    Line #682 (got 8 columns instead of 11)\n    Line #683 (got 3 columns instead of 11)\n    Line #686 (got 3 columns instead of 11)\n    Line #688 (got 7 columns instead of 11)\n    Line #689 (got 5 columns instead of 11)\n    Line #692 (got 2 columns instead of 11)\n    Line #694 (got 8 columns instead of 11)\n    Line #695 (got 6 columns instead of 11)\n    Line #697 (got 14 columns instead of 11)\n    Line #698 (got 6 columns instead of 11)\n    Line #700 (got 10 columns instead of 11)\n    Line #701 (got 4 columns instead of 11)\n    Line #703 (got 6 columns instead of 11)\n    Line #704 (got 9 columns instead of 11)\n    Line #706 (got 16 columns instead of 11)\n    Line #707 (got 9 columns instead of 11)\n    Line #708 (got 2 columns instead of 11)\n    Line #711 (got 2 columns instead of 11)\n    Line #714 (got 6 columns instead of 11)\n    Line #716 (got 10 columns instead of 11)\n    Line #717 (got 2 columns instead of 11)\n    Line #720 (got 6 columns instead of 11)\n    Line #722 (got 8 columns instead of 11)\n    Line #723 (got 7 columns instead of 11)\n    Line #725 (got 6 columns instead of 11)\n    Line #726 (got 4 columns instead of 11)\n    Line #728 (got 7 columns instead of 11)\n    Line #729 (got 8 columns instead of 11)\n    Line #731 (got 7 columns instead of 11)\n    Line #732 (got 8 columns instead of 11)\n    Line #734 (got 7 columns instead of 11)\n    Line #735 (got 12 columns instead of 11)\n    Line #737 (got 7 columns instead of 11)\n    Line #738 (got 6 columns instead of 11)\n    Line #740 (got 9 columns instead of 11)\n    Line #741 (got 8 columns instead of 11)\n    Line #743 (got 8 columns instead of 11)\n    Line #744 (got 2 columns instead of 11)\n    Line #746 (got 9 columns instead of 11)\n    Line #747 (got 6 columns instead of 11)\n    Line #749 (got 10 columns instead of 11)\n    Line #750 (got 2 columns instead of 11)\n    Line #752 (got 5 columns instead of 11)\n    Line #755 (got 7 columns instead of 11)\n    Line #756 (got 4 columns instead of 11)\n    Line #758 (got 12 columns instead of 11)\n    Line #759 (got 2 columns instead of 11)\n    Line #761 (got 12 columns instead of 11)\n    Line #762 (got 4 columns instead of 11)\n    Line #764 (got 7 columns instead of 11)\n    Line #765 (got 4 columns instead of 11)\n    Line #767 (got 7 columns instead of 11)\n    Line #768 (got 3 columns instead of 11)\n    Line #770 (got 7 columns instead of 11)\n    Line #771 (got 4 columns instead of 11)\n    Line #773 (got 7 columns instead of 11)\n    Line #774 (got 4 columns instead of 11)\n    Line #776 (got 5 columns instead of 11)\n    Line #777 (got 5 columns instead of 11)\n    Line #779 (got 9 columns instead of 11)\n    Line #780 (got 6 columns instead of 11)\n    Line #782 (got 6 columns instead of 11)\n    Line #783 (got 4 columns instead of 11)\n    Line #786 (got 7 columns instead of 11)\n    Line #788 (got 8 columns instead of 11)\n    Line #789 (got 4 columns instead of 11)\n    Line #792 (got 5 columns instead of 11)\n    Line #794 (got 12 columns instead of 11)\n    Line #795 (got 3 columns instead of 11)\n    Line #797 (got 7 columns instead of 11)\n    Line #798 (got 3 columns instead of 11)\n    Line #800 (got 13 columns instead of 11)\n    Line #801 (got 4 columns instead of 11)\n    Line #802 (got 3 columns instead of 11)\n    Line #804 (got 13 columns instead of 11)\n    Line #805 (got 3 columns instead of 11)\n    Line #807 (got 7 columns instead of 11)\n    Line #808 (got 3 columns instead of 11)\n    Line #810 (got 8 columns instead of 11)\n    Line #811 (got 9 columns instead of 11)\n    Line #813 (got 13 columns instead of 11)\n    Line #814 (got 13 columns instead of 11)\n    Line #816 (got 7 columns instead of 11)\n    Line #817 (got 6 columns instead of 11)\n    Line #819 (got 12 columns instead of 11)\n    Line #820 (got 1 columns instead of 11)\n    Line #823 (got 13 columns instead of 11)\n    Line #824 (got 8 columns instead of 11)\n    Line #826 (got 14 columns instead of 11)\n    Line #827 (got 2 columns instead of 11)\n    Line #828 (got 3 columns instead of 11)\n    Line #830 (got 10 columns instead of 11)\n    Line #831 (got 6 columns instead of 11)\n    Line #833 (got 7 columns instead of 11)\n    Line #834 (got 6 columns instead of 11)\n    Line #836 (got 8 columns instead of 11)\n    Line #837 (got 5 columns instead of 11)\n    Line #839 (got 8 columns instead of 11)\n    Line #840 (got 4 columns instead of 11)\n    Line #842 (got 12 columns instead of 11)\n    Line #843 (got 4 columns instead of 11)\n    Line #845 (got 10 columns instead of 11)\n    Line #846 (got 9 columns instead of 11)\n    Line #849 (got 8 columns instead of 11)\n    Line #851 (got 9 columns instead of 11)\n    Line #852 (got 3 columns instead of 11)\n    Line #855 (got 6 columns instead of 11)\n    Line #857 (got 12 columns instead of 11)\n    Line #858 (got 5 columns instead of 11)\n    Line #860 (got 8 columns instead of 11)\n    Line #861 (got 7 columns instead of 11)"
     ]
    }
   ],
   "source": [
    "#generating numby data object using real file.\n",
    "data=np.genfromtxt('jokes.txt')\n",
    "data"
   ]
  },
  {
   "cell_type": "code",
   "execution_count": null,
   "metadata": {},
   "outputs": [],
   "source": [
    "data.shape"
   ]
  },
  {
   "cell_type": "code",
   "execution_count": null,
   "metadata": {},
   "outputs": [],
   "source": [
    "aa.itemsize"
   ]
  },
  {
   "cell_type": "code",
   "execution_count": null,
   "metadata": {},
   "outputs": [],
   "source": [
    "aa.nbytes"
   ]
  },
  {
   "cell_type": "code",
   "execution_count": null,
   "metadata": {},
   "outputs": [],
   "source": [
    "aa.ndim"
   ]
  },
  {
   "cell_type": "code",
   "execution_count": null,
   "metadata": {},
   "outputs": [],
   "source": [
    "#indexing\n",
    "aa[0]"
   ]
  },
  {
   "cell_type": "code",
   "execution_count": null,
   "metadata": {},
   "outputs": [],
   "source": [
    "aa[1]"
   ]
  },
  {
   "cell_type": "code",
   "execution_count": null,
   "metadata": {},
   "outputs": [],
   "source": [
    "aa[-1]"
   ]
  },
  {
   "cell_type": "code",
   "execution_count": null,
   "metadata": {},
   "outputs": [],
   "source": [
    "np.dot(aa,aa)"
   ]
  },
  {
   "cell_type": "code",
   "execution_count": null,
   "metadata": {},
   "outputs": [],
   "source": [
    "np.mean(aa[:3])"
   ]
  },
  {
   "cell_type": "code",
   "execution_count": null,
   "metadata": {},
   "outputs": [],
   "source": [
    "np.mean(aa[:3]).min"
   ]
  },
  {
   "cell_type": "code",
   "execution_count": null,
   "metadata": {},
   "outputs": [],
   "source": [
    "a=np.arange(25).reshape(5,5)\n",
    "a"
   ]
  },
  {
   "cell_type": "code",
   "execution_count": null,
   "metadata": {},
   "outputs": [],
   "source": [
    "a"
   ]
  },
  {
   "cell_type": "code",
   "execution_count": null,
   "metadata": {},
   "outputs": [],
   "source": [
    "a,b=a.shape\n",
    "B=np.reshape((a,1))\n",
    "B"
   ]
  },
  {
   "cell_type": "code",
   "execution_count": null,
   "metadata": {},
   "outputs": [],
   "source": [
    "stuff = ['hello', 'hi', 'how are you doing', 'im fine', 'how about you']\n",
    "for a in stuff:\n",
    "     stuff.remove(a)\n",
    "stuff"
   ]
  },
  {
   "cell_type": "code",
   "execution_count": 1,
   "metadata": {},
   "outputs": [
    {
     "data": {
      "text/plain": [
       "array([[ 0.06491888,  0.57929261,  0.36270323],\n",
       "       [ 0.05910944,  0.67494475,  0.72219228]])"
      ]
     },
     "execution_count": 1,
     "metadata": {},
     "output_type": "execute_result"
    }
   ],
   "source": [
    "import numpy as np\n",
    "a=np.random.random((2,3))\n",
    "a"
   ]
  },
  {
   "cell_type": "code",
   "execution_count": 2,
   "metadata": {},
   "outputs": [
    {
     "data": {
      "text/plain": [
       "2.4631611908837323"
      ]
     },
     "execution_count": 2,
     "metadata": {},
     "output_type": "execute_result"
    }
   ],
   "source": [
    "a.sum()"
   ]
  },
  {
   "cell_type": "code",
   "execution_count": 3,
   "metadata": {},
   "outputs": [
    {
     "data": {
      "text/plain": [
       "array([ 0.12402831,  1.25423736,  1.08489552])"
      ]
     },
     "execution_count": 3,
     "metadata": {},
     "output_type": "execute_result"
    }
   ],
   "source": [
    "a.sum(axis=0)"
   ]
  },
  {
   "cell_type": "code",
   "execution_count": 4,
   "metadata": {},
   "outputs": [
    {
     "data": {
      "text/plain": [
       "array([ 0.06491888,  0.64421148,  1.00691472,  1.06602415,  1.74096891,\n",
       "        2.46316119])"
      ]
     },
     "execution_count": 4,
     "metadata": {},
     "output_type": "execute_result"
    }
   ],
   "source": [
    "a.cumsum()"
   ]
  },
  {
   "cell_type": "code",
   "execution_count": 5,
   "metadata": {},
   "outputs": [
    {
     "data": {
      "text/plain": [
       "array([[ 0.06491888,  0.64421148,  1.00691472],\n",
       "       [ 0.05910944,  0.73405419,  1.45624647]])"
      ]
     },
     "execution_count": 5,
     "metadata": {},
     "output_type": "execute_result"
    }
   ],
   "source": [
    "a.cumsum(axis=1)"
   ]
  },
  {
   "cell_type": "code",
   "execution_count": 6,
   "metadata": {},
   "outputs": [
    {
     "data": {
      "text/plain": [
       "0.059109436900967482"
      ]
     },
     "execution_count": 6,
     "metadata": {},
     "output_type": "execute_result"
    }
   ],
   "source": [
    "a.min()"
   ]
  },
  {
   "cell_type": "code",
   "execution_count": 7,
   "metadata": {},
   "outputs": [
    {
     "data": {
      "text/plain": [
       "0.72219228479273179"
      ]
     },
     "execution_count": 7,
     "metadata": {},
     "output_type": "execute_result"
    }
   ],
   "source": [
    "a.max()"
   ]
  },
  {
   "cell_type": "code",
   "execution_count": 8,
   "metadata": {},
   "outputs": [
    {
     "data": {
      "text/plain": [
       "array([ 0.06491888,  0.67494475,  0.72219228])"
      ]
     },
     "execution_count": 8,
     "metadata": {},
     "output_type": "execute_result"
    }
   ],
   "source": [
    "a.max(axis=0)"
   ]
  },
  {
   "cell_type": "code",
   "execution_count": 24,
   "metadata": {},
   "outputs": [
    {
     "data": {
      "text/html": [
       "<div>\n",
       "<style scoped>\n",
       "    .dataframe tbody tr th:only-of-type {\n",
       "        vertical-align: middle;\n",
       "    }\n",
       "\n",
       "    .dataframe tbody tr th {\n",
       "        vertical-align: top;\n",
       "    }\n",
       "\n",
       "    .dataframe thead th {\n",
       "        text-align: right;\n",
       "    }\n",
       "</style>\n",
       "<table border=\"1\" class=\"dataframe\">\n",
       "  <thead>\n",
       "    <tr style=\"text-align: right;\">\n",
       "      <th></th>\n",
       "      <th>SepalLength</th>\n",
       "      <th>SepalWidth</th>\n",
       "      <th>PetalLength</th>\n",
       "      <th>PetalWidth</th>\n",
       "      <th>Name</th>\n",
       "    </tr>\n",
       "  </thead>\n",
       "  <tbody>\n",
       "    <tr>\n",
       "      <th>0</th>\n",
       "      <td>5.1</td>\n",
       "      <td>3.5</td>\n",
       "      <td>1.4</td>\n",
       "      <td>0.2</td>\n",
       "      <td>Iris-setosa</td>\n",
       "    </tr>\n",
       "    <tr>\n",
       "      <th>1</th>\n",
       "      <td>4.9</td>\n",
       "      <td>3.0</td>\n",
       "      <td>1.4</td>\n",
       "      <td>0.2</td>\n",
       "      <td>Iris-setosa</td>\n",
       "    </tr>\n",
       "    <tr>\n",
       "      <th>2</th>\n",
       "      <td>4.7</td>\n",
       "      <td>3.2</td>\n",
       "      <td>1.3</td>\n",
       "      <td>0.2</td>\n",
       "      <td>Iris-setosa</td>\n",
       "    </tr>\n",
       "    <tr>\n",
       "      <th>3</th>\n",
       "      <td>4.6</td>\n",
       "      <td>3.1</td>\n",
       "      <td>1.5</td>\n",
       "      <td>0.2</td>\n",
       "      <td>Iris-setosa</td>\n",
       "    </tr>\n",
       "    <tr>\n",
       "      <th>4</th>\n",
       "      <td>5.0</td>\n",
       "      <td>3.6</td>\n",
       "      <td>1.4</td>\n",
       "      <td>0.2</td>\n",
       "      <td>Iris-setosa</td>\n",
       "    </tr>\n",
       "    <tr>\n",
       "      <th>5</th>\n",
       "      <td>5.4</td>\n",
       "      <td>3.9</td>\n",
       "      <td>1.7</td>\n",
       "      <td>0.4</td>\n",
       "      <td>Iris-setosa</td>\n",
       "    </tr>\n",
       "    <tr>\n",
       "      <th>6</th>\n",
       "      <td>4.6</td>\n",
       "      <td>3.4</td>\n",
       "      <td>1.4</td>\n",
       "      <td>0.3</td>\n",
       "      <td>Iris-setosa</td>\n",
       "    </tr>\n",
       "    <tr>\n",
       "      <th>7</th>\n",
       "      <td>5.0</td>\n",
       "      <td>3.4</td>\n",
       "      <td>1.5</td>\n",
       "      <td>0.2</td>\n",
       "      <td>Iris-setosa</td>\n",
       "    </tr>\n",
       "    <tr>\n",
       "      <th>8</th>\n",
       "      <td>4.4</td>\n",
       "      <td>2.9</td>\n",
       "      <td>1.4</td>\n",
       "      <td>0.2</td>\n",
       "      <td>Iris-setosa</td>\n",
       "    </tr>\n",
       "    <tr>\n",
       "      <th>9</th>\n",
       "      <td>4.9</td>\n",
       "      <td>3.1</td>\n",
       "      <td>1.5</td>\n",
       "      <td>0.1</td>\n",
       "      <td>Iris-setosa</td>\n",
       "    </tr>\n",
       "  </tbody>\n",
       "</table>\n",
       "</div>"
      ],
      "text/plain": [
       "   SepalLength  SepalWidth  PetalLength  PetalWidth         Name\n",
       "0          5.1         3.5          1.4         0.2  Iris-setosa\n",
       "1          4.9         3.0          1.4         0.2  Iris-setosa\n",
       "2          4.7         3.2          1.3         0.2  Iris-setosa\n",
       "3          4.6         3.1          1.5         0.2  Iris-setosa\n",
       "4          5.0         3.6          1.4         0.2  Iris-setosa\n",
       "5          5.4         3.9          1.7         0.4  Iris-setosa\n",
       "6          4.6         3.4          1.4         0.3  Iris-setosa\n",
       "7          5.0         3.4          1.5         0.2  Iris-setosa\n",
       "8          4.4         2.9          1.4         0.2  Iris-setosa\n",
       "9          4.9         3.1          1.5         0.1  Iris-setosa"
      ]
     },
     "execution_count": 24,
     "metadata": {},
     "output_type": "execute_result"
    }
   ],
   "source": [
    "import pandas as pf\n",
    "df1=pf.read_csv('/Users/vishwaprabhakarsingh/anaconda/pkgs/pandas-0.22.0-py27h0a44026_0/lib/python2.7/site-packages/pandas/tests/data/iris.csv')\n",
    "df1.head(10)"
   ]
  },
  {
   "cell_type": "code",
   "execution_count": 28,
   "metadata": {},
   "outputs": [
    {
     "ename": "HTTPError",
     "evalue": "HTTP Error 404: Not Found",
     "output_type": "error",
     "traceback": [
      "\u001b[0;31m---------------------------------------------------------------------------\u001b[0m",
      "\u001b[0;31mHTTPError\u001b[0m                                 Traceback (most recent call last)",
      "\u001b[0;32m<ipython-input-28-4047b53e24fb>\u001b[0m in \u001b[0;36m<module>\u001b[0;34m()\u001b[0m\n\u001b[1;32m      2\u001b[0m \u001b[0;32mimport\u001b[0m \u001b[0mmatplotlib\u001b[0m\u001b[0;34m.\u001b[0m\u001b[0mpyplot\u001b[0m \u001b[0;32mas\u001b[0m \u001b[0mplt\u001b[0m\u001b[0;34m\u001b[0m\u001b[0m\n\u001b[1;32m      3\u001b[0m \u001b[0;32mimport\u001b[0m \u001b[0mseaborn\u001b[0m \u001b[0;32mas\u001b[0m \u001b[0msns\u001b[0m\u001b[0;34m\u001b[0m\u001b[0m\n\u001b[0;32m----> 4\u001b[0;31m \u001b[0mdf\u001b[0m\u001b[0;34m=\u001b[0m\u001b[0msns\u001b[0m\u001b[0;34m.\u001b[0m\u001b[0mload_dataset\u001b[0m\u001b[0;34m(\u001b[0m\u001b[0;34m'/Users/vishwaprabhakarsingh/anaconda/pkgs/pandas-0.22.0-py27h0a44026_0/lib/python2.7/site-packages/pandas/tests/data/iris.csv'\u001b[0m\u001b[0;34m)\u001b[0m\u001b[0;34m\u001b[0m\u001b[0m\n\u001b[0m\u001b[1;32m      5\u001b[0m \u001b[0msns\u001b[0m\u001b[0;34m.\u001b[0m\u001b[0mcountplot\u001b[0m\u001b[0;34m(\u001b[0m\u001b[0my\u001b[0m\u001b[0;34m=\u001b[0m\u001b[0;34m'SepalLength'\u001b[0m\u001b[0;34m,\u001b[0m\u001b[0mdata\u001b[0m\u001b[0;34m=\u001b[0m\u001b[0mdf\u001b[0m\u001b[0;34m)\u001b[0m\u001b[0;34m\u001b[0m\u001b[0m\n",
      "\u001b[0;32m~/anaconda/lib/python3.6/site-packages/seaborn/utils.py\u001b[0m in \u001b[0;36mload_dataset\u001b[0;34m(name, cache, data_home, **kws)\u001b[0m\n\u001b[1;32m    408\u001b[0m                                   os.path.basename(full_path))\n\u001b[1;32m    409\u001b[0m         \u001b[0;32mif\u001b[0m \u001b[0;32mnot\u001b[0m \u001b[0mos\u001b[0m\u001b[0;34m.\u001b[0m\u001b[0mpath\u001b[0m\u001b[0;34m.\u001b[0m\u001b[0mexists\u001b[0m\u001b[0;34m(\u001b[0m\u001b[0mcache_path\u001b[0m\u001b[0;34m)\u001b[0m\u001b[0;34m:\u001b[0m\u001b[0;34m\u001b[0m\u001b[0m\n\u001b[0;32m--> 410\u001b[0;31m             \u001b[0murlretrieve\u001b[0m\u001b[0;34m(\u001b[0m\u001b[0mfull_path\u001b[0m\u001b[0;34m,\u001b[0m \u001b[0mcache_path\u001b[0m\u001b[0;34m)\u001b[0m\u001b[0;34m\u001b[0m\u001b[0m\n\u001b[0m\u001b[1;32m    411\u001b[0m         \u001b[0mfull_path\u001b[0m \u001b[0;34m=\u001b[0m \u001b[0mcache_path\u001b[0m\u001b[0;34m\u001b[0m\u001b[0m\n\u001b[1;32m    412\u001b[0m \u001b[0;34m\u001b[0m\u001b[0m\n",
      "\u001b[0;32m~/anaconda/lib/python3.6/urllib/request.py\u001b[0m in \u001b[0;36murlretrieve\u001b[0;34m(url, filename, reporthook, data)\u001b[0m\n\u001b[1;32m    246\u001b[0m     \u001b[0murl_type\u001b[0m\u001b[0;34m,\u001b[0m \u001b[0mpath\u001b[0m \u001b[0;34m=\u001b[0m \u001b[0msplittype\u001b[0m\u001b[0;34m(\u001b[0m\u001b[0murl\u001b[0m\u001b[0;34m)\u001b[0m\u001b[0;34m\u001b[0m\u001b[0m\n\u001b[1;32m    247\u001b[0m \u001b[0;34m\u001b[0m\u001b[0m\n\u001b[0;32m--> 248\u001b[0;31m     \u001b[0;32mwith\u001b[0m \u001b[0mcontextlib\u001b[0m\u001b[0;34m.\u001b[0m\u001b[0mclosing\u001b[0m\u001b[0;34m(\u001b[0m\u001b[0murlopen\u001b[0m\u001b[0;34m(\u001b[0m\u001b[0murl\u001b[0m\u001b[0;34m,\u001b[0m \u001b[0mdata\u001b[0m\u001b[0;34m)\u001b[0m\u001b[0;34m)\u001b[0m \u001b[0;32mas\u001b[0m \u001b[0mfp\u001b[0m\u001b[0;34m:\u001b[0m\u001b[0;34m\u001b[0m\u001b[0m\n\u001b[0m\u001b[1;32m    249\u001b[0m         \u001b[0mheaders\u001b[0m \u001b[0;34m=\u001b[0m \u001b[0mfp\u001b[0m\u001b[0;34m.\u001b[0m\u001b[0minfo\u001b[0m\u001b[0;34m(\u001b[0m\u001b[0;34m)\u001b[0m\u001b[0;34m\u001b[0m\u001b[0m\n\u001b[1;32m    250\u001b[0m \u001b[0;34m\u001b[0m\u001b[0m\n",
      "\u001b[0;32m~/anaconda/lib/python3.6/urllib/request.py\u001b[0m in \u001b[0;36murlopen\u001b[0;34m(url, data, timeout, cafile, capath, cadefault, context)\u001b[0m\n\u001b[1;32m    221\u001b[0m     \u001b[0;32melse\u001b[0m\u001b[0;34m:\u001b[0m\u001b[0;34m\u001b[0m\u001b[0m\n\u001b[1;32m    222\u001b[0m         \u001b[0mopener\u001b[0m \u001b[0;34m=\u001b[0m \u001b[0m_opener\u001b[0m\u001b[0;34m\u001b[0m\u001b[0m\n\u001b[0;32m--> 223\u001b[0;31m     \u001b[0;32mreturn\u001b[0m \u001b[0mopener\u001b[0m\u001b[0;34m.\u001b[0m\u001b[0mopen\u001b[0m\u001b[0;34m(\u001b[0m\u001b[0murl\u001b[0m\u001b[0;34m,\u001b[0m \u001b[0mdata\u001b[0m\u001b[0;34m,\u001b[0m \u001b[0mtimeout\u001b[0m\u001b[0;34m)\u001b[0m\u001b[0;34m\u001b[0m\u001b[0m\n\u001b[0m\u001b[1;32m    224\u001b[0m \u001b[0;34m\u001b[0m\u001b[0m\n\u001b[1;32m    225\u001b[0m \u001b[0;32mdef\u001b[0m \u001b[0minstall_opener\u001b[0m\u001b[0;34m(\u001b[0m\u001b[0mopener\u001b[0m\u001b[0;34m)\u001b[0m\u001b[0;34m:\u001b[0m\u001b[0;34m\u001b[0m\u001b[0m\n",
      "\u001b[0;32m~/anaconda/lib/python3.6/urllib/request.py\u001b[0m in \u001b[0;36mopen\u001b[0;34m(self, fullurl, data, timeout)\u001b[0m\n\u001b[1;32m    530\u001b[0m         \u001b[0;32mfor\u001b[0m \u001b[0mprocessor\u001b[0m \u001b[0;32min\u001b[0m \u001b[0mself\u001b[0m\u001b[0;34m.\u001b[0m\u001b[0mprocess_response\u001b[0m\u001b[0;34m.\u001b[0m\u001b[0mget\u001b[0m\u001b[0;34m(\u001b[0m\u001b[0mprotocol\u001b[0m\u001b[0;34m,\u001b[0m \u001b[0;34m[\u001b[0m\u001b[0;34m]\u001b[0m\u001b[0;34m)\u001b[0m\u001b[0;34m:\u001b[0m\u001b[0;34m\u001b[0m\u001b[0m\n\u001b[1;32m    531\u001b[0m             \u001b[0mmeth\u001b[0m \u001b[0;34m=\u001b[0m \u001b[0mgetattr\u001b[0m\u001b[0;34m(\u001b[0m\u001b[0mprocessor\u001b[0m\u001b[0;34m,\u001b[0m \u001b[0mmeth_name\u001b[0m\u001b[0;34m)\u001b[0m\u001b[0;34m\u001b[0m\u001b[0m\n\u001b[0;32m--> 532\u001b[0;31m             \u001b[0mresponse\u001b[0m \u001b[0;34m=\u001b[0m \u001b[0mmeth\u001b[0m\u001b[0;34m(\u001b[0m\u001b[0mreq\u001b[0m\u001b[0;34m,\u001b[0m \u001b[0mresponse\u001b[0m\u001b[0;34m)\u001b[0m\u001b[0;34m\u001b[0m\u001b[0m\n\u001b[0m\u001b[1;32m    533\u001b[0m \u001b[0;34m\u001b[0m\u001b[0m\n\u001b[1;32m    534\u001b[0m         \u001b[0;32mreturn\u001b[0m \u001b[0mresponse\u001b[0m\u001b[0;34m\u001b[0m\u001b[0m\n",
      "\u001b[0;32m~/anaconda/lib/python3.6/urllib/request.py\u001b[0m in \u001b[0;36mhttp_response\u001b[0;34m(self, request, response)\u001b[0m\n\u001b[1;32m    640\u001b[0m         \u001b[0;32mif\u001b[0m \u001b[0;32mnot\u001b[0m \u001b[0;34m(\u001b[0m\u001b[0;36m200\u001b[0m \u001b[0;34m<=\u001b[0m \u001b[0mcode\u001b[0m \u001b[0;34m<\u001b[0m \u001b[0;36m300\u001b[0m\u001b[0;34m)\u001b[0m\u001b[0;34m:\u001b[0m\u001b[0;34m\u001b[0m\u001b[0m\n\u001b[1;32m    641\u001b[0m             response = self.parent.error(\n\u001b[0;32m--> 642\u001b[0;31m                 'http', request, response, code, msg, hdrs)\n\u001b[0m\u001b[1;32m    643\u001b[0m \u001b[0;34m\u001b[0m\u001b[0m\n\u001b[1;32m    644\u001b[0m         \u001b[0;32mreturn\u001b[0m \u001b[0mresponse\u001b[0m\u001b[0;34m\u001b[0m\u001b[0m\n",
      "\u001b[0;32m~/anaconda/lib/python3.6/urllib/request.py\u001b[0m in \u001b[0;36merror\u001b[0;34m(self, proto, *args)\u001b[0m\n\u001b[1;32m    568\u001b[0m         \u001b[0;32mif\u001b[0m \u001b[0mhttp_err\u001b[0m\u001b[0;34m:\u001b[0m\u001b[0;34m\u001b[0m\u001b[0m\n\u001b[1;32m    569\u001b[0m             \u001b[0margs\u001b[0m \u001b[0;34m=\u001b[0m \u001b[0;34m(\u001b[0m\u001b[0mdict\u001b[0m\u001b[0;34m,\u001b[0m \u001b[0;34m'default'\u001b[0m\u001b[0;34m,\u001b[0m \u001b[0;34m'http_error_default'\u001b[0m\u001b[0;34m)\u001b[0m \u001b[0;34m+\u001b[0m \u001b[0morig_args\u001b[0m\u001b[0;34m\u001b[0m\u001b[0m\n\u001b[0;32m--> 570\u001b[0;31m             \u001b[0;32mreturn\u001b[0m \u001b[0mself\u001b[0m\u001b[0;34m.\u001b[0m\u001b[0m_call_chain\u001b[0m\u001b[0;34m(\u001b[0m\u001b[0;34m*\u001b[0m\u001b[0margs\u001b[0m\u001b[0;34m)\u001b[0m\u001b[0;34m\u001b[0m\u001b[0m\n\u001b[0m\u001b[1;32m    571\u001b[0m \u001b[0;34m\u001b[0m\u001b[0m\n\u001b[1;32m    572\u001b[0m \u001b[0;31m# XXX probably also want an abstract factory that knows when it makes\u001b[0m\u001b[0;34m\u001b[0m\u001b[0;34m\u001b[0m\u001b[0m\n",
      "\u001b[0;32m~/anaconda/lib/python3.6/urllib/request.py\u001b[0m in \u001b[0;36m_call_chain\u001b[0;34m(self, chain, kind, meth_name, *args)\u001b[0m\n\u001b[1;32m    502\u001b[0m         \u001b[0;32mfor\u001b[0m \u001b[0mhandler\u001b[0m \u001b[0;32min\u001b[0m \u001b[0mhandlers\u001b[0m\u001b[0;34m:\u001b[0m\u001b[0;34m\u001b[0m\u001b[0m\n\u001b[1;32m    503\u001b[0m             \u001b[0mfunc\u001b[0m \u001b[0;34m=\u001b[0m \u001b[0mgetattr\u001b[0m\u001b[0;34m(\u001b[0m\u001b[0mhandler\u001b[0m\u001b[0;34m,\u001b[0m \u001b[0mmeth_name\u001b[0m\u001b[0;34m)\u001b[0m\u001b[0;34m\u001b[0m\u001b[0m\n\u001b[0;32m--> 504\u001b[0;31m             \u001b[0mresult\u001b[0m \u001b[0;34m=\u001b[0m \u001b[0mfunc\u001b[0m\u001b[0;34m(\u001b[0m\u001b[0;34m*\u001b[0m\u001b[0margs\u001b[0m\u001b[0;34m)\u001b[0m\u001b[0;34m\u001b[0m\u001b[0m\n\u001b[0m\u001b[1;32m    505\u001b[0m             \u001b[0;32mif\u001b[0m \u001b[0mresult\u001b[0m \u001b[0;32mis\u001b[0m \u001b[0;32mnot\u001b[0m \u001b[0;32mNone\u001b[0m\u001b[0;34m:\u001b[0m\u001b[0;34m\u001b[0m\u001b[0m\n\u001b[1;32m    506\u001b[0m                 \u001b[0;32mreturn\u001b[0m \u001b[0mresult\u001b[0m\u001b[0;34m\u001b[0m\u001b[0m\n",
      "\u001b[0;32m~/anaconda/lib/python3.6/urllib/request.py\u001b[0m in \u001b[0;36mhttp_error_default\u001b[0;34m(self, req, fp, code, msg, hdrs)\u001b[0m\n\u001b[1;32m    648\u001b[0m \u001b[0;32mclass\u001b[0m \u001b[0mHTTPDefaultErrorHandler\u001b[0m\u001b[0;34m(\u001b[0m\u001b[0mBaseHandler\u001b[0m\u001b[0;34m)\u001b[0m\u001b[0;34m:\u001b[0m\u001b[0;34m\u001b[0m\u001b[0m\n\u001b[1;32m    649\u001b[0m     \u001b[0;32mdef\u001b[0m \u001b[0mhttp_error_default\u001b[0m\u001b[0;34m(\u001b[0m\u001b[0mself\u001b[0m\u001b[0;34m,\u001b[0m \u001b[0mreq\u001b[0m\u001b[0;34m,\u001b[0m \u001b[0mfp\u001b[0m\u001b[0;34m,\u001b[0m \u001b[0mcode\u001b[0m\u001b[0;34m,\u001b[0m \u001b[0mmsg\u001b[0m\u001b[0;34m,\u001b[0m \u001b[0mhdrs\u001b[0m\u001b[0;34m)\u001b[0m\u001b[0;34m:\u001b[0m\u001b[0;34m\u001b[0m\u001b[0m\n\u001b[0;32m--> 650\u001b[0;31m         \u001b[0;32mraise\u001b[0m \u001b[0mHTTPError\u001b[0m\u001b[0;34m(\u001b[0m\u001b[0mreq\u001b[0m\u001b[0;34m.\u001b[0m\u001b[0mfull_url\u001b[0m\u001b[0;34m,\u001b[0m \u001b[0mcode\u001b[0m\u001b[0;34m,\u001b[0m \u001b[0mmsg\u001b[0m\u001b[0;34m,\u001b[0m \u001b[0mhdrs\u001b[0m\u001b[0;34m,\u001b[0m \u001b[0mfp\u001b[0m\u001b[0;34m)\u001b[0m\u001b[0;34m\u001b[0m\u001b[0m\n\u001b[0m\u001b[1;32m    651\u001b[0m \u001b[0;34m\u001b[0m\u001b[0m\n\u001b[1;32m    652\u001b[0m \u001b[0;32mclass\u001b[0m \u001b[0mHTTPRedirectHandler\u001b[0m\u001b[0;34m(\u001b[0m\u001b[0mBaseHandler\u001b[0m\u001b[0;34m)\u001b[0m\u001b[0;34m:\u001b[0m\u001b[0;34m\u001b[0m\u001b[0m\n",
      "\u001b[0;31mHTTPError\u001b[0m: HTTP Error 404: Not Found"
     ]
    }
   ],
   "source": [
    "import numpy as np\n",
    "import matplotlib.pyplot as plt \n",
    "import seaborn as sns\n",
    "df=sns.load_dataset('/Users/vishwaprabhakarsingh/anaconda/pkgs/pandas-0.22.0-py27h0a44026_0/lib/python2.7/site-packages/pandas/tests/data/iris.csv')\n",
    "sns.countplot(y='SepalLength',data=df)"
   ]
  },
  {
   "cell_type": "code",
   "execution_count": null,
   "metadata": {},
   "outputs": [],
   "source": []
  }
 ],
 "metadata": {
  "kernelspec": {
   "display_name": "Python 3",
   "language": "python",
   "name": "python3"
  },
  "language_info": {
   "codemirror_mode": {
    "name": "ipython",
    "version": 3
   },
   "file_extension": ".py",
   "mimetype": "text/x-python",
   "name": "python",
   "nbconvert_exporter": "python",
   "pygments_lexer": "ipython3",
   "version": "3.6.4"
  }
 },
 "nbformat": 4,
 "nbformat_minor": 2
}
